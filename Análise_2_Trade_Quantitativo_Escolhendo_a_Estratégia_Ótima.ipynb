{
  "cells": [
    {
      "cell_type": "markdown",
      "metadata": {
        "id": "view-in-github",
        "colab_type": "text"
      },
      "source": [
        "<a href=\"https://colab.research.google.com/github/Matheus5S/Python/blob/main/An%C3%A1lise_2_Trade_Quantitativo_Escolhendo_a_Estrat%C3%A9gia_%C3%93tima.ipynb\" target=\"_parent\"><img src=\"https://colab.research.google.com/assets/colab-badge.svg\" alt=\"Open In Colab\"/></a>"
      ]
    },
    {
      "cell_type": "markdown",
      "metadata": {
        "id": "PaPbIFEXaEvk"
      },
      "source": [
        "# Setup"
      ]
    },
    {
      "cell_type": "code",
      "execution_count": null,
      "metadata": {
        "colab": {
          "base_uri": "https://localhost:8080/"
        },
        "id": "luUDT2M0vi5j",
        "outputId": "f6819777-c457-45a7-caad-01130406bb6c"
      },
      "outputs": [
        {
          "name": "stdout",
          "output_type": "stream",
          "text": [
            "Looking in indexes: https://pypi.org/simple, https://us-python.pkg.dev/colab-wheels/public/simple/\n",
            "Collecting yfinance\n",
            "  Downloading yfinance-0.1.87-py2.py3-none-any.whl (29 kB)\n",
            "Collecting requests>=2.26\n",
            "  Downloading requests-2.28.1-py3-none-any.whl (62 kB)\n",
            "\u001b[K     |████████████████████████████████| 62 kB 430 kB/s \n",
            "\u001b[?25hRequirement already satisfied: numpy>=1.15 in /usr/local/lib/python3.8/dist-packages (from yfinance) (1.21.6)\n",
            "Requirement already satisfied: appdirs>=1.4.4 in /usr/local/lib/python3.8/dist-packages (from yfinance) (1.4.4)\n",
            "Requirement already satisfied: lxml>=4.5.1 in /usr/local/lib/python3.8/dist-packages (from yfinance) (4.9.1)\n",
            "Requirement already satisfied: pandas>=0.24.0 in /usr/local/lib/python3.8/dist-packages (from yfinance) (1.3.5)\n",
            "Requirement already satisfied: multitasking>=0.0.7 in /usr/local/lib/python3.8/dist-packages (from yfinance) (0.0.11)\n",
            "Requirement already satisfied: python-dateutil>=2.7.3 in /usr/local/lib/python3.8/dist-packages (from pandas>=0.24.0->yfinance) (2.8.2)\n",
            "Requirement already satisfied: pytz>=2017.3 in /usr/local/lib/python3.8/dist-packages (from pandas>=0.24.0->yfinance) (2022.6)\n",
            "Requirement already satisfied: six>=1.5 in /usr/local/lib/python3.8/dist-packages (from python-dateutil>=2.7.3->pandas>=0.24.0->yfinance) (1.15.0)\n",
            "Requirement already satisfied: idna<4,>=2.5 in /usr/local/lib/python3.8/dist-packages (from requests>=2.26->yfinance) (2.10)\n",
            "Requirement already satisfied: urllib3<1.27,>=1.21.1 in /usr/local/lib/python3.8/dist-packages (from requests>=2.26->yfinance) (1.24.3)\n",
            "Requirement already satisfied: certifi>=2017.4.17 in /usr/local/lib/python3.8/dist-packages (from requests>=2.26->yfinance) (2022.9.24)\n",
            "Requirement already satisfied: charset-normalizer<3,>=2 in /usr/local/lib/python3.8/dist-packages (from requests>=2.26->yfinance) (2.1.1)\n",
            "Installing collected packages: requests, yfinance\n",
            "  Attempting uninstall: requests\n",
            "    Found existing installation: requests 2.23.0\n",
            "    Uninstalling requests-2.23.0:\n",
            "      Successfully uninstalled requests-2.23.0\n",
            "Successfully installed requests-2.28.1 yfinance-0.1.87\n",
            "Looking in indexes: https://pypi.org/simple, https://us-python.pkg.dev/colab-wheels/public/simple/\n",
            "Collecting vectorbt\n",
            "  Downloading vectorbt-0.24.3-py3-none-any.whl (526 kB)\n",
            "\u001b[K     |████████████████████████████████| 526 kB 5.1 MB/s \n",
            "\u001b[?25hRequirement already satisfied: numpy>=1.16.5 in /usr/local/lib/python3.8/dist-packages (from vectorbt) (1.21.6)\n",
            "Collecting mypy-extensions\n",
            "  Downloading mypy_extensions-0.4.3-py2.py3-none-any.whl (4.5 kB)\n",
            "Requirement already satisfied: plotly>=4.12.0 in /usr/local/lib/python3.8/dist-packages (from vectorbt) (5.5.0)\n",
            "Requirement already satisfied: ipywidgets>=7.0.0 in /usr/local/lib/python3.8/dist-packages (from vectorbt) (7.7.1)\n",
            "Collecting schedule\n",
            "  Downloading schedule-1.1.0-py2.py3-none-any.whl (10 kB)\n",
            "Requirement already satisfied: scikit-learn in /usr/local/lib/python3.8/dist-packages (from vectorbt) (1.0.2)\n",
            "Requirement already satisfied: imageio in /usr/local/lib/python3.8/dist-packages (from vectorbt) (2.9.0)\n",
            "Requirement already satisfied: pytz in /usr/local/lib/python3.8/dist-packages (from vectorbt) (2022.6)\n",
            "Requirement already satisfied: requests in /usr/local/lib/python3.8/dist-packages (from vectorbt) (2.28.1)\n",
            "Requirement already satisfied: scipy in /usr/local/lib/python3.8/dist-packages (from vectorbt) (1.7.3)\n",
            "Requirement already satisfied: numba>=0.53.1 in /usr/local/lib/python3.8/dist-packages (from vectorbt) (0.56.4)\n",
            "Requirement already satisfied: pandas in /usr/local/lib/python3.8/dist-packages (from vectorbt) (1.3.5)\n",
            "Collecting dateparser\n",
            "  Downloading dateparser-1.1.4-py2.py3-none-any.whl (292 kB)\n",
            "\u001b[K     |████████████████████████████████| 292 kB 14.4 MB/s \n",
            "\u001b[?25hRequirement already satisfied: tqdm in /usr/local/lib/python3.8/dist-packages (from vectorbt) (4.64.1)\n",
            "Requirement already satisfied: matplotlib in /usr/local/lib/python3.8/dist-packages (from vectorbt) (3.2.2)\n",
            "Requirement already satisfied: dill in /usr/local/lib/python3.8/dist-packages (from vectorbt) (0.3.6)\n",
            "Requirement already satisfied: widgetsnbextension~=3.6.0 in /usr/local/lib/python3.8/dist-packages (from ipywidgets>=7.0.0->vectorbt) (3.6.1)\n",
            "Requirement already satisfied: ipython-genutils~=0.2.0 in /usr/local/lib/python3.8/dist-packages (from ipywidgets>=7.0.0->vectorbt) (0.2.0)\n",
            "Requirement already satisfied: ipython>=4.0.0 in /usr/local/lib/python3.8/dist-packages (from ipywidgets>=7.0.0->vectorbt) (7.9.0)\n",
            "Requirement already satisfied: jupyterlab-widgets>=1.0.0 in /usr/local/lib/python3.8/dist-packages (from ipywidgets>=7.0.0->vectorbt) (3.0.3)\n",
            "Requirement already satisfied: ipykernel>=4.5.1 in /usr/local/lib/python3.8/dist-packages (from ipywidgets>=7.0.0->vectorbt) (5.3.4)\n",
            "Requirement already satisfied: traitlets>=4.3.1 in /usr/local/lib/python3.8/dist-packages (from ipywidgets>=7.0.0->vectorbt) (5.6.0)\n",
            "Requirement already satisfied: tornado>=4.2 in /usr/local/lib/python3.8/dist-packages (from ipykernel>=4.5.1->ipywidgets>=7.0.0->vectorbt) (6.0.4)\n",
            "Requirement already satisfied: jupyter-client in /usr/local/lib/python3.8/dist-packages (from ipykernel>=4.5.1->ipywidgets>=7.0.0->vectorbt) (6.1.12)\n",
            "Requirement already satisfied: pygments in /usr/local/lib/python3.8/dist-packages (from ipython>=4.0.0->ipywidgets>=7.0.0->vectorbt) (2.6.1)\n",
            "Requirement already satisfied: prompt-toolkit<2.1.0,>=2.0.0 in /usr/local/lib/python3.8/dist-packages (from ipython>=4.0.0->ipywidgets>=7.0.0->vectorbt) (2.0.10)\n",
            "Collecting jedi>=0.10\n",
            "  Downloading jedi-0.18.2-py2.py3-none-any.whl (1.6 MB)\n",
            "\u001b[K     |████████████████████████████████| 1.6 MB 22.2 MB/s \n",
            "\u001b[?25hRequirement already satisfied: backcall in /usr/local/lib/python3.8/dist-packages (from ipython>=4.0.0->ipywidgets>=7.0.0->vectorbt) (0.2.0)\n",
            "Requirement already satisfied: pexpect in /usr/local/lib/python3.8/dist-packages (from ipython>=4.0.0->ipywidgets>=7.0.0->vectorbt) (4.8.0)\n",
            "Requirement already satisfied: setuptools>=18.5 in /usr/local/lib/python3.8/dist-packages (from ipython>=4.0.0->ipywidgets>=7.0.0->vectorbt) (57.4.0)\n",
            "Requirement already satisfied: pickleshare in /usr/local/lib/python3.8/dist-packages (from ipython>=4.0.0->ipywidgets>=7.0.0->vectorbt) (0.7.5)\n",
            "Requirement already satisfied: decorator in /usr/local/lib/python3.8/dist-packages (from ipython>=4.0.0->ipywidgets>=7.0.0->vectorbt) (4.4.2)\n",
            "Requirement already satisfied: parso<0.9.0,>=0.8.0 in /usr/local/lib/python3.8/dist-packages (from jedi>=0.10->ipython>=4.0.0->ipywidgets>=7.0.0->vectorbt) (0.8.3)\n",
            "Requirement already satisfied: importlib-metadata in /usr/local/lib/python3.8/dist-packages (from numba>=0.53.1->vectorbt) (4.13.0)\n",
            "Requirement already satisfied: llvmlite<0.40,>=0.39.0dev0 in /usr/local/lib/python3.8/dist-packages (from numba>=0.53.1->vectorbt) (0.39.1)\n",
            "Requirement already satisfied: tenacity>=6.2.0 in /usr/local/lib/python3.8/dist-packages (from plotly>=4.12.0->vectorbt) (8.1.0)\n",
            "Requirement already satisfied: six in /usr/local/lib/python3.8/dist-packages (from plotly>=4.12.0->vectorbt) (1.15.0)\n",
            "Requirement already satisfied: wcwidth in /usr/local/lib/python3.8/dist-packages (from prompt-toolkit<2.1.0,>=2.0.0->ipython>=4.0.0->ipywidgets>=7.0.0->vectorbt) (0.2.5)\n",
            "Requirement already satisfied: notebook>=4.4.1 in /usr/local/lib/python3.8/dist-packages (from widgetsnbextension~=3.6.0->ipywidgets>=7.0.0->vectorbt) (5.7.16)\n",
            "Requirement already satisfied: nbconvert<6.0 in /usr/local/lib/python3.8/dist-packages (from notebook>=4.4.1->widgetsnbextension~=3.6.0->ipywidgets>=7.0.0->vectorbt) (5.6.1)\n",
            "Requirement already satisfied: jinja2<=3.0.0 in /usr/local/lib/python3.8/dist-packages (from notebook>=4.4.1->widgetsnbextension~=3.6.0->ipywidgets>=7.0.0->vectorbt) (2.11.3)\n",
            "Requirement already satisfied: Send2Trash in /usr/local/lib/python3.8/dist-packages (from notebook>=4.4.1->widgetsnbextension~=3.6.0->ipywidgets>=7.0.0->vectorbt) (1.8.0)\n",
            "Requirement already satisfied: terminado>=0.8.1 in /usr/local/lib/python3.8/dist-packages (from notebook>=4.4.1->widgetsnbextension~=3.6.0->ipywidgets>=7.0.0->vectorbt) (0.13.3)\n",
            "Requirement already satisfied: jupyter-core>=4.4.0 in /usr/local/lib/python3.8/dist-packages (from notebook>=4.4.1->widgetsnbextension~=3.6.0->ipywidgets>=7.0.0->vectorbt) (5.1.0)\n",
            "Requirement already satisfied: prometheus-client in /usr/local/lib/python3.8/dist-packages (from notebook>=4.4.1->widgetsnbextension~=3.6.0->ipywidgets>=7.0.0->vectorbt) (0.15.0)\n",
            "Requirement already satisfied: pyzmq>=17 in /usr/local/lib/python3.8/dist-packages (from notebook>=4.4.1->widgetsnbextension~=3.6.0->ipywidgets>=7.0.0->vectorbt) (23.2.1)\n",
            "Requirement already satisfied: nbformat in /usr/local/lib/python3.8/dist-packages (from notebook>=4.4.1->widgetsnbextension~=3.6.0->ipywidgets>=7.0.0->vectorbt) (5.7.0)\n",
            "Requirement already satisfied: MarkupSafe>=0.23 in /usr/local/lib/python3.8/dist-packages (from jinja2<=3.0.0->notebook>=4.4.1->widgetsnbextension~=3.6.0->ipywidgets>=7.0.0->vectorbt) (2.0.1)\n",
            "Requirement already satisfied: python-dateutil>=2.1 in /usr/local/lib/python3.8/dist-packages (from jupyter-client->ipykernel>=4.5.1->ipywidgets>=7.0.0->vectorbt) (2.8.2)\n",
            "Requirement already satisfied: platformdirs>=2.5 in /usr/local/lib/python3.8/dist-packages (from jupyter-core>=4.4.0->notebook>=4.4.1->widgetsnbextension~=3.6.0->ipywidgets>=7.0.0->vectorbt) (2.5.4)\n",
            "Requirement already satisfied: pandocfilters>=1.4.1 in /usr/local/lib/python3.8/dist-packages (from nbconvert<6.0->notebook>=4.4.1->widgetsnbextension~=3.6.0->ipywidgets>=7.0.0->vectorbt) (1.5.0)\n",
            "Requirement already satisfied: mistune<2,>=0.8.1 in /usr/local/lib/python3.8/dist-packages (from nbconvert<6.0->notebook>=4.4.1->widgetsnbextension~=3.6.0->ipywidgets>=7.0.0->vectorbt) (0.8.4)\n",
            "Requirement already satisfied: testpath in /usr/local/lib/python3.8/dist-packages (from nbconvert<6.0->notebook>=4.4.1->widgetsnbextension~=3.6.0->ipywidgets>=7.0.0->vectorbt) (0.6.0)\n",
            "Requirement already satisfied: entrypoints>=0.2.2 in /usr/local/lib/python3.8/dist-packages (from nbconvert<6.0->notebook>=4.4.1->widgetsnbextension~=3.6.0->ipywidgets>=7.0.0->vectorbt) (0.4)\n",
            "Requirement already satisfied: defusedxml in /usr/local/lib/python3.8/dist-packages (from nbconvert<6.0->notebook>=4.4.1->widgetsnbextension~=3.6.0->ipywidgets>=7.0.0->vectorbt) (0.7.1)\n",
            "Requirement already satisfied: bleach in /usr/local/lib/python3.8/dist-packages (from nbconvert<6.0->notebook>=4.4.1->widgetsnbextension~=3.6.0->ipywidgets>=7.0.0->vectorbt) (5.0.1)\n",
            "Requirement already satisfied: fastjsonschema in /usr/local/lib/python3.8/dist-packages (from nbformat->notebook>=4.4.1->widgetsnbextension~=3.6.0->ipywidgets>=7.0.0->vectorbt) (2.16.2)\n",
            "Requirement already satisfied: jsonschema>=2.6 in /usr/local/lib/python3.8/dist-packages (from nbformat->notebook>=4.4.1->widgetsnbextension~=3.6.0->ipywidgets>=7.0.0->vectorbt) (4.3.3)\n",
            "Requirement already satisfied: importlib-resources>=1.4.0 in /usr/local/lib/python3.8/dist-packages (from jsonschema>=2.6->nbformat->notebook>=4.4.1->widgetsnbextension~=3.6.0->ipywidgets>=7.0.0->vectorbt) (5.10.0)\n",
            "Requirement already satisfied: pyrsistent!=0.17.0,!=0.17.1,!=0.17.2,>=0.14.0 in /usr/local/lib/python3.8/dist-packages (from jsonschema>=2.6->nbformat->notebook>=4.4.1->widgetsnbextension~=3.6.0->ipywidgets>=7.0.0->vectorbt) (0.19.2)\n",
            "Requirement already satisfied: attrs>=17.4.0 in /usr/local/lib/python3.8/dist-packages (from jsonschema>=2.6->nbformat->notebook>=4.4.1->widgetsnbextension~=3.6.0->ipywidgets>=7.0.0->vectorbt) (22.1.0)\n",
            "Requirement already satisfied: zipp>=3.1.0 in /usr/local/lib/python3.8/dist-packages (from importlib-resources>=1.4.0->jsonschema>=2.6->nbformat->notebook>=4.4.1->widgetsnbextension~=3.6.0->ipywidgets>=7.0.0->vectorbt) (3.11.0)\n",
            "Requirement already satisfied: ptyprocess in /usr/local/lib/python3.8/dist-packages (from terminado>=0.8.1->notebook>=4.4.1->widgetsnbextension~=3.6.0->ipywidgets>=7.0.0->vectorbt) (0.7.0)\n",
            "Requirement already satisfied: webencodings in /usr/local/lib/python3.8/dist-packages (from bleach->nbconvert<6.0->notebook>=4.4.1->widgetsnbextension~=3.6.0->ipywidgets>=7.0.0->vectorbt) (0.5.1)\n",
            "Requirement already satisfied: tzlocal in /usr/local/lib/python3.8/dist-packages (from dateparser->vectorbt) (1.5.1)\n",
            "Requirement already satisfied: regex!=2019.02.19,!=2021.8.27 in /usr/local/lib/python3.8/dist-packages (from dateparser->vectorbt) (2022.6.2)\n",
            "Requirement already satisfied: pillow in /usr/local/lib/python3.8/dist-packages (from imageio->vectorbt) (7.1.2)\n",
            "Requirement already satisfied: kiwisolver>=1.0.1 in /usr/local/lib/python3.8/dist-packages (from matplotlib->vectorbt) (1.4.4)\n",
            "Requirement already satisfied: pyparsing!=2.0.4,!=2.1.2,!=2.1.6,>=2.0.1 in /usr/local/lib/python3.8/dist-packages (from matplotlib->vectorbt) (3.0.9)\n",
            "Requirement already satisfied: cycler>=0.10 in /usr/local/lib/python3.8/dist-packages (from matplotlib->vectorbt) (0.11.0)\n",
            "Requirement already satisfied: urllib3<1.27,>=1.21.1 in /usr/local/lib/python3.8/dist-packages (from requests->vectorbt) (1.24.3)\n",
            "Requirement already satisfied: idna<4,>=2.5 in /usr/local/lib/python3.8/dist-packages (from requests->vectorbt) (2.10)\n",
            "Requirement already satisfied: charset-normalizer<3,>=2 in /usr/local/lib/python3.8/dist-packages (from requests->vectorbt) (2.1.1)\n",
            "Requirement already satisfied: certifi>=2017.4.17 in /usr/local/lib/python3.8/dist-packages (from requests->vectorbt) (2022.9.24)\n",
            "Requirement already satisfied: joblib>=0.11 in /usr/local/lib/python3.8/dist-packages (from scikit-learn->vectorbt) (1.2.0)\n",
            "Requirement already satisfied: threadpoolctl>=2.0.0 in /usr/local/lib/python3.8/dist-packages (from scikit-learn->vectorbt) (3.1.0)\n",
            "Installing collected packages: jedi, schedule, mypy-extensions, dateparser, vectorbt\n",
            "Successfully installed dateparser-1.1.4 jedi-0.18.2 mypy-extensions-0.4.3 schedule-1.1.0 vectorbt-0.24.3\n",
            "Looking in indexes: https://pypi.org/simple, https://us-python.pkg.dev/colab-wheels/public/simple/\n",
            "Collecting quantstats\n",
            "  Downloading QuantStats-0.0.59-py2.py3-none-any.whl (41 kB)\n",
            "\u001b[K     |████████████████████████████████| 41 kB 251 kB/s \n",
            "\u001b[?25hRequirement already satisfied: yfinance>=0.1.70 in /usr/local/lib/python3.8/dist-packages (from quantstats) (0.1.87)\n",
            "Requirement already satisfied: python-dateutil>=2.0 in /usr/local/lib/python3.8/dist-packages (from quantstats) (2.8.2)\n",
            "Requirement already satisfied: matplotlib>=3.0.0 in /usr/local/lib/python3.8/dist-packages (from quantstats) (3.2.2)\n",
            "Requirement already satisfied: pandas>=0.24.0 in /usr/local/lib/python3.8/dist-packages (from quantstats) (1.3.5)\n",
            "Requirement already satisfied: seaborn>=0.9.0 in /usr/local/lib/python3.8/dist-packages (from quantstats) (0.11.2)\n",
            "Requirement already satisfied: numpy>=1.16.5 in /usr/local/lib/python3.8/dist-packages (from quantstats) (1.21.6)\n",
            "Requirement already satisfied: tabulate>=0.8.0 in /usr/local/lib/python3.8/dist-packages (from quantstats) (0.8.10)\n",
            "Requirement already satisfied: scipy>=1.2.0 in /usr/local/lib/python3.8/dist-packages (from quantstats) (1.7.3)\n",
            "Requirement already satisfied: cycler>=0.10 in /usr/local/lib/python3.8/dist-packages (from matplotlib>=3.0.0->quantstats) (0.11.0)\n",
            "Requirement already satisfied: kiwisolver>=1.0.1 in /usr/local/lib/python3.8/dist-packages (from matplotlib>=3.0.0->quantstats) (1.4.4)\n",
            "Requirement already satisfied: pyparsing!=2.0.4,!=2.1.2,!=2.1.6,>=2.0.1 in /usr/local/lib/python3.8/dist-packages (from matplotlib>=3.0.0->quantstats) (3.0.9)\n",
            "Requirement already satisfied: pytz>=2017.3 in /usr/local/lib/python3.8/dist-packages (from pandas>=0.24.0->quantstats) (2022.6)\n",
            "Requirement already satisfied: six>=1.5 in /usr/local/lib/python3.8/dist-packages (from python-dateutil>=2.0->quantstats) (1.15.0)\n",
            "Requirement already satisfied: lxml>=4.5.1 in /usr/local/lib/python3.8/dist-packages (from yfinance>=0.1.70->quantstats) (4.9.1)\n",
            "Requirement already satisfied: appdirs>=1.4.4 in /usr/local/lib/python3.8/dist-packages (from yfinance>=0.1.70->quantstats) (1.4.4)\n",
            "Requirement already satisfied: requests>=2.26 in /usr/local/lib/python3.8/dist-packages (from yfinance>=0.1.70->quantstats) (2.28.1)\n",
            "Requirement already satisfied: multitasking>=0.0.7 in /usr/local/lib/python3.8/dist-packages (from yfinance>=0.1.70->quantstats) (0.0.11)\n",
            "Requirement already satisfied: urllib3<1.27,>=1.21.1 in /usr/local/lib/python3.8/dist-packages (from requests>=2.26->yfinance>=0.1.70->quantstats) (1.24.3)\n",
            "Requirement already satisfied: charset-normalizer<3,>=2 in /usr/local/lib/python3.8/dist-packages (from requests>=2.26->yfinance>=0.1.70->quantstats) (2.1.1)\n",
            "Requirement already satisfied: certifi>=2017.4.17 in /usr/local/lib/python3.8/dist-packages (from requests>=2.26->yfinance>=0.1.70->quantstats) (2022.9.24)\n",
            "Requirement already satisfied: idna<4,>=2.5 in /usr/local/lib/python3.8/dist-packages (from requests>=2.26->yfinance>=0.1.70->quantstats) (2.10)\n",
            "Installing collected packages: quantstats\n",
            "Successfully installed quantstats-0.0.59\n"
          ]
        }
      ],
      "source": [
        "#@title Rodar no colab para instalar pacotes necessários {display-mode: \"form\"}\n",
        "\n",
        "# This code will be hidden when the notebook is loaded.\n",
        "# Run This Cell for Colab\n",
        "# Just instaling the required packages\n",
        "\n",
        "!pip install yfinance\n",
        "!pip install vectorbt\n",
        "!pip install quantstats"
      ]
    },
    {
      "cell_type": "code",
      "execution_count": null,
      "metadata": {
        "id": "qSSeNYDrfam3"
      },
      "outputs": [],
      "source": [
        "import vectorbt as vbt\n",
        "import numpy as np\n",
        "import pandas as pd\n",
        "import warnings\n",
        "warnings.filterwarnings('ignore')"
      ]
    },
    {
      "cell_type": "markdown",
      "metadata": {
        "id": "1itmKM22mxiA"
      },
      "source": [
        "## Definindo parâmetros"
      ]
    },
    {
      "cell_type": "code",
      "execution_count": null,
      "metadata": {
        "id": "c0cTCGEEmz2e"
      },
      "outputs": [],
      "source": [
        "# Análise de um Ativo Americano\n",
        "codigo = 'AAPL'\n",
        "ativos_comparacao = [codigo, '^GSPC', 'AMZN', 'NFLX']\n",
        "\n",
        "data_inicial = '2017-01-01'  \n",
        "data_final = '2018-01-01'\n",
        "\n",
        "# Os preços de fechamentos dos ativos\n",
        "vbt.YFData.download(ativos_comparacao, start=data_inicial, end=data_final).get('Close')"
      ]
    },
    {
      "cell_type": "markdown",
      "metadata": {
        "id": "oPyVHi1gmt3n"
      },
      "source": [
        "## Baixando os dados"
      ]
    },
    {
      "cell_type": "code",
      "execution_count": null,
      "metadata": {
        "id": "LDk3VGAgmshd"
      },
      "outputs": [],
      "source": [
        "precos = vbt.YFData.download(codigo, start=data_inicial, end=data_final).get()\n",
        "fechamento = vbt.YFData.download(codigo, start=data_inicial, end=data_final).get('Close')"
      ]
    },
    {
      "cell_type": "markdown",
      "metadata": {
        "id": "iKrU8yPcfg-f"
      },
      "source": [
        "# Parte I - Analisando a Série"
      ]
    },
    {
      "cell_type": "code",
      "execution_count": null,
      "metadata": {
        "id": "wCwUxGqmiDpV"
      },
      "outputs": [],
      "source": [
        "fechamento.vbt.plot().show()"
      ]
    },
    {
      "cell_type": "code",
      "execution_count": null,
      "metadata": {
        "id": "t20Pu9eyhyIP"
      },
      "outputs": [],
      "source": [
        "precos.vbt.ohlcv.plot().show()"
      ]
    },
    {
      "cell_type": "markdown",
      "metadata": {
        "id": "eJBtGoocyKAg"
      },
      "source": [
        "## Gráfico comparativo\n",
        "\n",
        "Com investimento inicial de \\$1 (ou R\\$ 1)"
      ]
    },
    {
      "cell_type": "code",
      "execution_count": null,
      "metadata": {
        "id": "ulIL2mXXfpX4"
      },
      "outputs": [],
      "source": [
        "vbt.YFData.download(ativos_comparacao,\n",
        "                    start=data_inicial,\n",
        "                    end=data_final).plot(column='Close', base=1).show()"
      ]
    },
    {
      "cell_type": "markdown",
      "metadata": {
        "id": "ThCi7hFPyai4"
      },
      "source": [
        "## Gráfico Quant Stat\n",
        "\n",
        "Retorno Cumulativo, Drawdown e Retorno Diário"
      ]
    },
    {
      "cell_type": "code",
      "execution_count": null,
      "metadata": {
        "id": "VTn6Sw0jjtzr"
      },
      "outputs": [],
      "source": [
        "warnings.filterwarnings('ignore')\n",
        "\n",
        "retornos = fechamento.vbt.to_returns()\n",
        "retornos.vbt.returns.qs.plot_snapshot(title=codigo)"
      ]
    },
    {
      "cell_type": "markdown",
      "metadata": {
        "id": "BbvKxZNvlv94"
      },
      "source": [
        "# Analisando Estratégias de Trade"
      ]
    },
    {
      "cell_type": "markdown",
      "metadata": {
        "id": "wUjAaL2ql5AC"
      },
      "source": [
        "## Média Móvel Simples (SMA)\n",
        "\n",
        "SMA: Simple Moving Averages"
      ]
    },
    {
      "cell_type": "code",
      "execution_count": null,
      "metadata": {
        "id": "N0IfOgMl-bA_"
      },
      "outputs": [],
      "source": [
        "n_periodos_curta = 20\n",
        "n_periodos_longa = 50\n",
        "\n",
        "media_curta = vbt.MA.run(fechamento, n_periodos_curta, short_name='media_curta')\n",
        "media_longa = vbt.MA.run(fechamento, n_periodos_longa, short_name='media_longa')\n",
        "\n",
        "fig = fechamento.vbt.plot(trace_kwargs=dict(name='Preço de Fechamento'))\n",
        "media_curta.ma.vbt.plot(trace_kwargs=dict(name='Média Móvel Curta'), fig=fig)\n",
        "media_longa.ma.vbt.plot(trace_kwargs=dict(name='Média Móvel Longa'), fig=fig)\n",
        "\n",
        "fig.show()"
      ]
    },
    {
      "cell_type": "markdown",
      "metadata": {
        "id": "eecz3CqWjBRy"
      },
      "source": [
        "## Índice de Força Relativa (RSI)\n",
        "\n",
        "RSI: Relative Strength Index"
      ]
    },
    {
      "cell_type": "code",
      "execution_count": null,
      "metadata": {
        "id": "opmuLIcajgv-"
      },
      "outputs": [],
      "source": [
        "rsi = vbt.RSI.run(fechamento)\n",
        "rsi.plot().show()"
      ]
    },
    {
      "cell_type": "markdown",
      "metadata": {
        "id": "Y2ZclTpmjYU2"
      },
      "source": [
        "## Estocástico (Stochastics)"
      ]
    },
    {
      "cell_type": "code",
      "execution_count": null,
      "metadata": {
        "id": "5vEoh0YZz5EB"
      },
      "outputs": [],
      "source": [
        "vbt.STOCH.run(precos['High'], precos['Low'], precos['Close']).plot().show()"
      ]
    },
    {
      "cell_type": "markdown",
      "metadata": {
        "id": "EpiIb_VYzv4M"
      },
      "source": [
        "## Bandas de Bolinger (Bollinger Bands)"
      ]
    },
    {
      "cell_type": "code",
      "execution_count": null,
      "metadata": {
        "id": "3vcU16yGzymV"
      },
      "outputs": [],
      "source": [
        "vbt.BBANDS.run(fechamento).plot().show()"
      ]
    },
    {
      "cell_type": "markdown",
      "metadata": {
        "id": "Ic41VAHdciPQ"
      },
      "source": [
        "# Parte II - Escolhendo Melhor Estratégia"
      ]
    },
    {
      "cell_type": "markdown",
      "metadata": {
        "id": "2V93cB9KlTFM"
      },
      "source": [
        "## Testando manualmente"
      ]
    },
    {
      "cell_type": "markdown",
      "metadata": {
        "id": "qa0_nYC3vms-"
      },
      "source": [
        "### Teste dentro da amostra (in-sample)"
      ]
    },
    {
      "cell_type": "code",
      "execution_count": null,
      "metadata": {
        "colab": {
          "background_save": true
        },
        "id": "uQ5Up9KM8tOz",
        "outputId": "5abaab24-7c84-4455-cbe8-af854047641b"
      },
      "outputs": [
        {
          "name": "stdout",
          "output_type": "stream",
          "text": [
            "Retorno Total (%): 7.8\n",
            "Retorno Anualizado (%): 11.54\n",
            "Índice Sharpe: 0.74\n"
          ]
        }
      ],
      "source": [
        "estrategia_media_movel_curta = 10\n",
        "estrategia_media_movel_longa = 30\n",
        "\n",
        "media_movel_curta = vbt.MA.run(fechamento, estrategia_media_movel_curta, short_name='fast_ma')\n",
        "media_movel_longa = vbt.MA.run(fechamento, estrategia_media_movel_longa, short_name='slow_ma')\n",
        "\n",
        "entradas = media_movel_curta.ma_crossed_above(media_movel_longa)\n",
        "saidas = media_movel_curta.ma_crossed_below(media_movel_longa)\n",
        "\n",
        "# Create the Signals Portfolio\n",
        "pf = vbt.Portfolio.from_signals(fechamento,\n",
        "                                entries=entradas,\n",
        "                                exits=saidas,\n",
        "                                freq=\"D\",\n",
        "                                # init_cash=100_000,\n",
        "                                fees=0.0025,\n",
        "                                slippage=0.0025)\n",
        "\n",
        "print(\"Retorno Total (%):\", round(pf.total_return() * 100,2))\n",
        "print(\"Retorno Anualizado (%):\", round(pf.annualized_return() * 100,2))\n",
        "print(\"Índice Sharpe:\", round(pf.sharpe_ratio(),2)) # Entenda IS em https://pt.wikipedia.org/wiki/%C3%8Dndice_de_Sharpe"
      ]
    },
    {
      "cell_type": "code",
      "execution_count": null,
      "metadata": {
        "colab": {
          "background_save": true
        },
        "id": "3mQxa7Q2iODc"
      },
      "outputs": [],
      "source": [
        "# print(pf.stats()) # Todas as estatisticas do Portfolio"
      ]
    },
    {
      "cell_type": "code",
      "execution_count": null,
      "metadata": {
        "colab": {
          "background_save": true
        },
        "id": "NSvRa6OCiaE7"
      },
      "outputs": [],
      "source": [
        "# print(pf.returns_stats()) # Todas as estatisticas do retorno"
      ]
    },
    {
      "cell_type": "code",
      "execution_count": null,
      "metadata": {
        "colab": {
          "background_save": true
        },
        "id": "JOf8kRKhfCBB",
        "outputId": "54be0245-cd2d-4b95-ace4-9be7235f2599"
      },
      "outputs": [
        {
          "data": {
            "text/html": [
              "<html>\n",
              "<head><meta charset=\"utf-8\" /></head>\n",
              "<body>\n",
              "    <div>            <script src=\"https://cdnjs.cloudflare.com/ajax/libs/mathjax/2.7.5/MathJax.js?config=TeX-AMS-MML_SVG\"></script><script type=\"text/javascript\">if (window.MathJax) {MathJax.Hub.Config({SVG: {font: \"STIX-Web\"}});}</script>                <script type=\"text/javascript\">window.PlotlyConfig = {MathJaxConfig: 'local'};</script>\n",
              "        <script src=\"https://cdn.plot.ly/plotly-2.8.3.min.js\"></script>                <div id=\"8194778c-2562-42f4-9997-384395801c6a\" class=\"plotly-graph-div\" style=\"height:350px; width:700px;\"></div>            <script type=\"text/javascript\">                                    window.PLOTLYENV=window.PLOTLYENV || {};                                    if (document.getElementById(\"8194778c-2562-42f4-9997-384395801c6a\")) {                    Plotly.newPlot(                        \"8194778c-2562-42f4-9997-384395801c6a\",                        [{\"name\":\"Pre\\u00e7o de Fechamento\",\"showlegend\":true,\"x\":[\"2017-01-03T05:00:00+00:00\",\"2017-01-04T05:00:00+00:00\",\"2017-01-05T05:00:00+00:00\",\"2017-01-06T05:00:00+00:00\",\"2017-01-09T05:00:00+00:00\",\"2017-01-10T05:00:00+00:00\",\"2017-01-11T05:00:00+00:00\",\"2017-01-12T05:00:00+00:00\",\"2017-01-13T05:00:00+00:00\",\"2017-01-17T05:00:00+00:00\",\"2017-01-18T05:00:00+00:00\",\"2017-01-19T05:00:00+00:00\",\"2017-01-20T05:00:00+00:00\",\"2017-01-23T05:00:00+00:00\",\"2017-01-24T05:00:00+00:00\",\"2017-01-25T05:00:00+00:00\",\"2017-01-26T05:00:00+00:00\",\"2017-01-27T05:00:00+00:00\",\"2017-01-30T05:00:00+00:00\",\"2017-01-31T05:00:00+00:00\",\"2017-02-01T05:00:00+00:00\",\"2017-02-02T05:00:00+00:00\",\"2017-02-03T05:00:00+00:00\",\"2017-02-06T05:00:00+00:00\",\"2017-02-07T05:00:00+00:00\",\"2017-02-08T05:00:00+00:00\",\"2017-02-09T05:00:00+00:00\",\"2017-02-10T05:00:00+00:00\",\"2017-02-13T05:00:00+00:00\",\"2017-02-14T05:00:00+00:00\",\"2017-02-15T05:00:00+00:00\",\"2017-02-16T05:00:00+00:00\",\"2017-02-17T05:00:00+00:00\",\"2017-02-21T05:00:00+00:00\",\"2017-02-22T05:00:00+00:00\",\"2017-02-23T05:00:00+00:00\",\"2017-02-24T05:00:00+00:00\",\"2017-02-27T05:00:00+00:00\",\"2017-02-28T05:00:00+00:00\",\"2017-03-01T05:00:00+00:00\",\"2017-03-02T05:00:00+00:00\",\"2017-03-03T05:00:00+00:00\",\"2017-03-06T05:00:00+00:00\",\"2017-03-07T05:00:00+00:00\",\"2017-03-08T05:00:00+00:00\",\"2017-03-09T05:00:00+00:00\",\"2017-03-10T05:00:00+00:00\",\"2017-03-13T04:00:00+00:00\",\"2017-03-14T04:00:00+00:00\",\"2017-03-15T04:00:00+00:00\",\"2017-03-16T04:00:00+00:00\",\"2017-03-17T04:00:00+00:00\",\"2017-03-20T04:00:00+00:00\",\"2017-03-21T04:00:00+00:00\",\"2017-03-22T04:00:00+00:00\",\"2017-03-23T04:00:00+00:00\",\"2017-03-24T04:00:00+00:00\",\"2017-03-27T04:00:00+00:00\",\"2017-03-28T04:00:00+00:00\",\"2017-03-29T04:00:00+00:00\",\"2017-03-30T04:00:00+00:00\",\"2017-03-31T04:00:00+00:00\",\"2017-04-03T04:00:00+00:00\",\"2017-04-04T04:00:00+00:00\",\"2017-04-05T04:00:00+00:00\",\"2017-04-06T04:00:00+00:00\",\"2017-04-07T04:00:00+00:00\",\"2017-04-10T04:00:00+00:00\",\"2017-04-11T04:00:00+00:00\",\"2017-04-12T04:00:00+00:00\",\"2017-04-13T04:00:00+00:00\",\"2017-04-17T04:00:00+00:00\",\"2017-04-18T04:00:00+00:00\",\"2017-04-19T04:00:00+00:00\",\"2017-04-20T04:00:00+00:00\",\"2017-04-21T04:00:00+00:00\",\"2017-04-24T04:00:00+00:00\",\"2017-04-25T04:00:00+00:00\",\"2017-04-26T04:00:00+00:00\",\"2017-04-27T04:00:00+00:00\",\"2017-04-28T04:00:00+00:00\",\"2017-05-01T04:00:00+00:00\",\"2017-05-02T04:00:00+00:00\",\"2017-05-03T04:00:00+00:00\",\"2017-05-04T04:00:00+00:00\",\"2017-05-05T04:00:00+00:00\",\"2017-05-08T04:00:00+00:00\",\"2017-05-09T04:00:00+00:00\",\"2017-05-10T04:00:00+00:00\",\"2017-05-11T04:00:00+00:00\",\"2017-05-12T04:00:00+00:00\",\"2017-05-15T04:00:00+00:00\",\"2017-05-16T04:00:00+00:00\",\"2017-05-17T04:00:00+00:00\",\"2017-05-18T04:00:00+00:00\",\"2017-05-19T04:00:00+00:00\",\"2017-05-22T04:00:00+00:00\",\"2017-05-23T04:00:00+00:00\",\"2017-05-24T04:00:00+00:00\",\"2017-05-25T04:00:00+00:00\",\"2017-05-26T04:00:00+00:00\",\"2017-05-30T04:00:00+00:00\",\"2017-05-31T04:00:00+00:00\",\"2017-06-01T04:00:00+00:00\",\"2017-06-02T04:00:00+00:00\",\"2017-06-05T04:00:00+00:00\",\"2017-06-06T04:00:00+00:00\",\"2017-06-07T04:00:00+00:00\",\"2017-06-08T04:00:00+00:00\",\"2017-06-09T04:00:00+00:00\",\"2017-06-12T04:00:00+00:00\",\"2017-06-13T04:00:00+00:00\",\"2017-06-14T04:00:00+00:00\",\"2017-06-15T04:00:00+00:00\",\"2017-06-16T04:00:00+00:00\",\"2017-06-19T04:00:00+00:00\",\"2017-06-20T04:00:00+00:00\",\"2017-06-21T04:00:00+00:00\",\"2017-06-22T04:00:00+00:00\",\"2017-06-23T04:00:00+00:00\",\"2017-06-26T04:00:00+00:00\",\"2017-06-27T04:00:00+00:00\",\"2017-06-28T04:00:00+00:00\",\"2017-06-29T04:00:00+00:00\",\"2017-06-30T04:00:00+00:00\",\"2017-07-03T04:00:00+00:00\",\"2017-07-05T04:00:00+00:00\",\"2017-07-06T04:00:00+00:00\",\"2017-07-07T04:00:00+00:00\",\"2017-07-10T04:00:00+00:00\",\"2017-07-11T04:00:00+00:00\",\"2017-07-12T04:00:00+00:00\",\"2017-07-13T04:00:00+00:00\",\"2017-07-14T04:00:00+00:00\",\"2017-07-17T04:00:00+00:00\",\"2017-07-18T04:00:00+00:00\",\"2017-07-19T04:00:00+00:00\",\"2017-07-20T04:00:00+00:00\",\"2017-07-21T04:00:00+00:00\",\"2017-07-24T04:00:00+00:00\",\"2017-07-25T04:00:00+00:00\",\"2017-07-26T04:00:00+00:00\",\"2017-07-27T04:00:00+00:00\",\"2017-07-28T04:00:00+00:00\",\"2017-07-31T04:00:00+00:00\",\"2017-08-01T04:00:00+00:00\",\"2017-08-02T04:00:00+00:00\",\"2017-08-03T04:00:00+00:00\",\"2017-08-04T04:00:00+00:00\",\"2017-08-07T04:00:00+00:00\",\"2017-08-08T04:00:00+00:00\",\"2017-08-09T04:00:00+00:00\",\"2017-08-10T04:00:00+00:00\",\"2017-08-11T04:00:00+00:00\",\"2017-08-14T04:00:00+00:00\",\"2017-08-15T04:00:00+00:00\",\"2017-08-16T04:00:00+00:00\",\"2017-08-17T04:00:00+00:00\",\"2017-08-18T04:00:00+00:00\",\"2017-08-21T04:00:00+00:00\",\"2017-08-22T04:00:00+00:00\",\"2017-08-23T04:00:00+00:00\",\"2017-08-24T04:00:00+00:00\",\"2017-08-25T04:00:00+00:00\",\"2017-08-28T04:00:00+00:00\",\"2017-08-29T04:00:00+00:00\",\"2017-08-30T04:00:00+00:00\",\"2017-08-31T04:00:00+00:00\",\"2017-09-01T04:00:00+00:00\",\"2017-09-05T04:00:00+00:00\",\"2017-09-06T04:00:00+00:00\",\"2017-09-07T04:00:00+00:00\",\"2017-09-08T04:00:00+00:00\",\"2017-09-11T04:00:00+00:00\",\"2017-09-12T04:00:00+00:00\",\"2017-09-13T04:00:00+00:00\",\"2017-09-14T04:00:00+00:00\",\"2017-09-15T04:00:00+00:00\",\"2017-09-18T04:00:00+00:00\",\"2017-09-19T04:00:00+00:00\",\"2017-09-20T04:00:00+00:00\",\"2017-09-21T04:00:00+00:00\",\"2017-09-22T04:00:00+00:00\",\"2017-09-25T04:00:00+00:00\",\"2017-09-26T04:00:00+00:00\",\"2017-09-27T04:00:00+00:00\",\"2017-09-28T04:00:00+00:00\",\"2017-09-29T04:00:00+00:00\",\"2017-10-02T04:00:00+00:00\",\"2017-10-03T04:00:00+00:00\",\"2017-10-04T04:00:00+00:00\",\"2017-10-05T04:00:00+00:00\",\"2017-10-06T04:00:00+00:00\",\"2017-10-09T04:00:00+00:00\",\"2017-10-10T04:00:00+00:00\",\"2017-10-11T04:00:00+00:00\",\"2017-10-12T04:00:00+00:00\",\"2017-10-13T04:00:00+00:00\",\"2017-10-16T04:00:00+00:00\",\"2017-10-17T04:00:00+00:00\",\"2017-10-18T04:00:00+00:00\",\"2017-10-19T04:00:00+00:00\",\"2017-10-20T04:00:00+00:00\",\"2017-10-23T04:00:00+00:00\",\"2017-10-24T04:00:00+00:00\",\"2017-10-25T04:00:00+00:00\",\"2017-10-26T04:00:00+00:00\",\"2017-10-27T04:00:00+00:00\",\"2017-10-30T04:00:00+00:00\",\"2017-10-31T04:00:00+00:00\",\"2017-11-01T04:00:00+00:00\",\"2017-11-02T04:00:00+00:00\",\"2017-11-03T04:00:00+00:00\",\"2017-11-06T05:00:00+00:00\",\"2017-11-07T05:00:00+00:00\",\"2017-11-08T05:00:00+00:00\",\"2017-11-09T05:00:00+00:00\",\"2017-11-10T05:00:00+00:00\",\"2017-11-13T05:00:00+00:00\",\"2017-11-14T05:00:00+00:00\",\"2017-11-15T05:00:00+00:00\",\"2017-11-16T05:00:00+00:00\",\"2017-11-17T05:00:00+00:00\",\"2017-11-20T05:00:00+00:00\",\"2017-11-21T05:00:00+00:00\",\"2017-11-22T05:00:00+00:00\",\"2017-11-24T05:00:00+00:00\",\"2017-11-27T05:00:00+00:00\",\"2017-11-28T05:00:00+00:00\",\"2017-11-29T05:00:00+00:00\",\"2017-11-30T05:00:00+00:00\",\"2017-12-01T05:00:00+00:00\",\"2017-12-04T05:00:00+00:00\",\"2017-12-05T05:00:00+00:00\",\"2017-12-06T05:00:00+00:00\",\"2017-12-07T05:00:00+00:00\",\"2017-12-08T05:00:00+00:00\",\"2017-12-11T05:00:00+00:00\",\"2017-12-12T05:00:00+00:00\",\"2017-12-13T05:00:00+00:00\",\"2017-12-14T05:00:00+00:00\",\"2017-12-15T05:00:00+00:00\",\"2017-12-18T05:00:00+00:00\",\"2017-12-19T05:00:00+00:00\",\"2017-12-20T05:00:00+00:00\",\"2017-12-21T05:00:00+00:00\",\"2017-12-22T05:00:00+00:00\",\"2017-12-26T05:00:00+00:00\",\"2017-12-27T05:00:00+00:00\",\"2017-12-28T05:00:00+00:00\",\"2017-12-29T05:00:00+00:00\"],\"type\":\"scatter\",\"uid\":\"d16dd9ba-ca69-4805-a053-05f992981d07\",\"y\":[27.17475700378418,27.14434051513672,27.282377243041992,27.586528778076172,27.839208602905273,27.867286682128906,28.017017364501953,27.900033950805664,27.85090446472168,28.075511932373047,28.073171615600586,28.0240421295166,28.075511932373047,28.09422492980957,28.068490982055664,28.515357971191406,28.52939796447754,28.53173828125,28.456871032714844,28.391361236572266,30.1226863861084,30.07120704650879,30.199886322021484,30.48298454284668,30.773101806640625,30.89242172241211,31.115652084350586,31.04515266418457,31.320072174072266,31.72658348083496,31.84173583984375,31.80412483215332,31.89107894897461,32.1213493347168,32.21769332885742,32.08140563964844,32.1119499206543,32.17539596557617,32.189491271972656,32.8474235534668,32.65240478515625,32.84507751464844,32.74169158935547,32.78398132324219,32.66178894042969,32.58660888671875,32.69469451904297,32.70878982543945,32.65944290161133,33.00486755371094,33.05891036987305,32.89442825317383,33.239845275878906,32.85918045043945,33.230445861816406,33.11294937133789,33.04716110229492,33.103553771972656,33.78969192504883,33.86487579345703,33.82023620605469,33.75679397583008,33.76618957519531,34.017601013183594,33.84138107299805,33.75679397583008,33.68159866333008,33.64164352416992,33.27978515625,33.31973648071289,33.14350128173828,33.32678985595703,33.178749084472656,33.05655288696289,33.470115661621094,33.430179595947266,33.75209045410156,33.961212158203125,33.76148223876953,33.787330627441406,33.75443649291992,34.442928314208984,34.661441802978516,34.55571746826172,34.4311637878418,35.00216293334961,35.953819274902344,36.18410873413086,36.0125617980957,36.32401657104492,36.83130645751953,36.73692321777344,36.68266296386719,35.45101547241211,35.9913330078125,36.11402893066406,36.333457946777344,36.28861999511719,36.180091857910156,36.30513381958008,36.24378967285156,36.257957458496094,36.04323959350586,36.142333984375,36.67793655395508,36.31928634643555,36.44198989868164,36.659061431884766,36.56940841674805,35.1513557434082,34.31138610839844,34.587440490722656,34.25004577636719,34.044761657714844,33.56816864013672,34.528465270996094,34.21464157104492,34.417564392089844,34.36093521118164,34.51430130004883,34.40576934814453,33.91263198852539,34.40813064575195,33.90082931518555,33.98106384277344,33.858360290527344,33.99757385253906,33.67669677734375,34.01880645751953,34.2264404296875,34.33734130859375,34.38689422607422,34.865867614746094,35.16551971435547,35.288211822509766,35.4109001159668,35.63269805908203,35.472251892089844,35.455726623535156,35.885154724121094,36.03852462768555,36.208404541015625,35.52416229248047,35.2740478515625,35.092384338378906,35.40381622314453,37.076690673828125,36.70624923706055,36.89973068237305,37.47072219848633,37.770362854003906,38.00159454345703,36.791175842285156,37.302818298339844,37.86420440673828,38.278743743896484,38.12477493286133,37.39283752441406,37.30755615234375,37.238868713378906,37.847633361816406,37.8950080871582,37.726829528808594,37.8665771484375,38.247947692871094,38.58904266357422,38.693275451660156,38.84724426269531,38.85907745361328,38.39244079589844,38.352176666259766,38.19820022583008,37.57522964477539,38.25505447387695,38.10345458984375,37.81684112548828,37.49231719970703,37.871315002441406,37.58469772338867,37.59891891479492,36.968841552734375,36.334007263183594,35.97869873046875,35.66128921508789,36.27479553222656,36.53298568725586,36.30794906616211,36.50693893432617,36.43350601196289,36.59220504760742,36.35532760620117,36.8077507019043,36.78643798828125,36.91434097290039,36.92856216430664,37.08252716064453,36.95225143432617,37.18675994873047,37.871315002441406,38.01107406616211,37.842899322509766,36.947505950927734,37.011474609375,36.99251937866211,37.212806701660156,37.04936599731445,37.28623962402344,38.62220764160156,39.491539001464844,40.041080474853516,39.53179931640625,39.82078170776367,40.860660552978516,41.275177001953125,41.407840728759766,41.74656677246094,41.66129684448242,41.52341079711914,41.35700988769531,40.73178482055664,40.19453048706055,40.674739837646484,40.44890213012695,40.408485412597656,41.15969467163086,41.59236145019531,41.5947380065918,41.385528564453125,41.14305877685547,40.289615631103516,40.85303497314453,40.66284942626953,40.365692138671875,40.327659606933594,40.177894592285156,40.251590728759766,40.263465881347656,41.04796600341797,40.8173713684082,40.952880859375,40.94099044799805,41.35700988769531,41.93943405151367,41.49250411987305,41.44733810424805,41.6042366027832,41.6042366027832,40.548736572265625,40.555870056152344,40.66998291015625,40.23019027709961]},{\"name\":\"M\\u00e9dia M\\u00f3vel Curta\",\"showlegend\":true,\"x\":[\"2017-01-03T05:00:00+00:00\",\"2017-01-04T05:00:00+00:00\",\"2017-01-05T05:00:00+00:00\",\"2017-01-06T05:00:00+00:00\",\"2017-01-09T05:00:00+00:00\",\"2017-01-10T05:00:00+00:00\",\"2017-01-11T05:00:00+00:00\",\"2017-01-12T05:00:00+00:00\",\"2017-01-13T05:00:00+00:00\",\"2017-01-17T05:00:00+00:00\",\"2017-01-18T05:00:00+00:00\",\"2017-01-19T05:00:00+00:00\",\"2017-01-20T05:00:00+00:00\",\"2017-01-23T05:00:00+00:00\",\"2017-01-24T05:00:00+00:00\",\"2017-01-25T05:00:00+00:00\",\"2017-01-26T05:00:00+00:00\",\"2017-01-27T05:00:00+00:00\",\"2017-01-30T05:00:00+00:00\",\"2017-01-31T05:00:00+00:00\",\"2017-02-01T05:00:00+00:00\",\"2017-02-02T05:00:00+00:00\",\"2017-02-03T05:00:00+00:00\",\"2017-02-06T05:00:00+00:00\",\"2017-02-07T05:00:00+00:00\",\"2017-02-08T05:00:00+00:00\",\"2017-02-09T05:00:00+00:00\",\"2017-02-10T05:00:00+00:00\",\"2017-02-13T05:00:00+00:00\",\"2017-02-14T05:00:00+00:00\",\"2017-02-15T05:00:00+00:00\",\"2017-02-16T05:00:00+00:00\",\"2017-02-17T05:00:00+00:00\",\"2017-02-21T05:00:00+00:00\",\"2017-02-22T05:00:00+00:00\",\"2017-02-23T05:00:00+00:00\",\"2017-02-24T05:00:00+00:00\",\"2017-02-27T05:00:00+00:00\",\"2017-02-28T05:00:00+00:00\",\"2017-03-01T05:00:00+00:00\",\"2017-03-02T05:00:00+00:00\",\"2017-03-03T05:00:00+00:00\",\"2017-03-06T05:00:00+00:00\",\"2017-03-07T05:00:00+00:00\",\"2017-03-08T05:00:00+00:00\",\"2017-03-09T05:00:00+00:00\",\"2017-03-10T05:00:00+00:00\",\"2017-03-13T04:00:00+00:00\",\"2017-03-14T04:00:00+00:00\",\"2017-03-15T04:00:00+00:00\",\"2017-03-16T04:00:00+00:00\",\"2017-03-17T04:00:00+00:00\",\"2017-03-20T04:00:00+00:00\",\"2017-03-21T04:00:00+00:00\",\"2017-03-22T04:00:00+00:00\",\"2017-03-23T04:00:00+00:00\",\"2017-03-24T04:00:00+00:00\",\"2017-03-27T04:00:00+00:00\",\"2017-03-28T04:00:00+00:00\",\"2017-03-29T04:00:00+00:00\",\"2017-03-30T04:00:00+00:00\",\"2017-03-31T04:00:00+00:00\",\"2017-04-03T04:00:00+00:00\",\"2017-04-04T04:00:00+00:00\",\"2017-04-05T04:00:00+00:00\",\"2017-04-06T04:00:00+00:00\",\"2017-04-07T04:00:00+00:00\",\"2017-04-10T04:00:00+00:00\",\"2017-04-11T04:00:00+00:00\",\"2017-04-12T04:00:00+00:00\",\"2017-04-13T04:00:00+00:00\",\"2017-04-17T04:00:00+00:00\",\"2017-04-18T04:00:00+00:00\",\"2017-04-19T04:00:00+00:00\",\"2017-04-20T04:00:00+00:00\",\"2017-04-21T04:00:00+00:00\",\"2017-04-24T04:00:00+00:00\",\"2017-04-25T04:00:00+00:00\",\"2017-04-26T04:00:00+00:00\",\"2017-04-27T04:00:00+00:00\",\"2017-04-28T04:00:00+00:00\",\"2017-05-01T04:00:00+00:00\",\"2017-05-02T04:00:00+00:00\",\"2017-05-03T04:00:00+00:00\",\"2017-05-04T04:00:00+00:00\",\"2017-05-05T04:00:00+00:00\",\"2017-05-08T04:00:00+00:00\",\"2017-05-09T04:00:00+00:00\",\"2017-05-10T04:00:00+00:00\",\"2017-05-11T04:00:00+00:00\",\"2017-05-12T04:00:00+00:00\",\"2017-05-15T04:00:00+00:00\",\"2017-05-16T04:00:00+00:00\",\"2017-05-17T04:00:00+00:00\",\"2017-05-18T04:00:00+00:00\",\"2017-05-19T04:00:00+00:00\",\"2017-05-22T04:00:00+00:00\",\"2017-05-23T04:00:00+00:00\",\"2017-05-24T04:00:00+00:00\",\"2017-05-25T04:00:00+00:00\",\"2017-05-26T04:00:00+00:00\",\"2017-05-30T04:00:00+00:00\",\"2017-05-31T04:00:00+00:00\",\"2017-06-01T04:00:00+00:00\",\"2017-06-02T04:00:00+00:00\",\"2017-06-05T04:00:00+00:00\",\"2017-06-06T04:00:00+00:00\",\"2017-06-07T04:00:00+00:00\",\"2017-06-08T04:00:00+00:00\",\"2017-06-09T04:00:00+00:00\",\"2017-06-12T04:00:00+00:00\",\"2017-06-13T04:00:00+00:00\",\"2017-06-14T04:00:00+00:00\",\"2017-06-15T04:00:00+00:00\",\"2017-06-16T04:00:00+00:00\",\"2017-06-19T04:00:00+00:00\",\"2017-06-20T04:00:00+00:00\",\"2017-06-21T04:00:00+00:00\",\"2017-06-22T04:00:00+00:00\",\"2017-06-23T04:00:00+00:00\",\"2017-06-26T04:00:00+00:00\",\"2017-06-27T04:00:00+00:00\",\"2017-06-28T04:00:00+00:00\",\"2017-06-29T04:00:00+00:00\",\"2017-06-30T04:00:00+00:00\",\"2017-07-03T04:00:00+00:00\",\"2017-07-05T04:00:00+00:00\",\"2017-07-06T04:00:00+00:00\",\"2017-07-07T04:00:00+00:00\",\"2017-07-10T04:00:00+00:00\",\"2017-07-11T04:00:00+00:00\",\"2017-07-12T04:00:00+00:00\",\"2017-07-13T04:00:00+00:00\",\"2017-07-14T04:00:00+00:00\",\"2017-07-17T04:00:00+00:00\",\"2017-07-18T04:00:00+00:00\",\"2017-07-19T04:00:00+00:00\",\"2017-07-20T04:00:00+00:00\",\"2017-07-21T04:00:00+00:00\",\"2017-07-24T04:00:00+00:00\",\"2017-07-25T04:00:00+00:00\",\"2017-07-26T04:00:00+00:00\",\"2017-07-27T04:00:00+00:00\",\"2017-07-28T04:00:00+00:00\",\"2017-07-31T04:00:00+00:00\",\"2017-08-01T04:00:00+00:00\",\"2017-08-02T04:00:00+00:00\",\"2017-08-03T04:00:00+00:00\",\"2017-08-04T04:00:00+00:00\",\"2017-08-07T04:00:00+00:00\",\"2017-08-08T04:00:00+00:00\",\"2017-08-09T04:00:00+00:00\",\"2017-08-10T04:00:00+00:00\",\"2017-08-11T04:00:00+00:00\",\"2017-08-14T04:00:00+00:00\",\"2017-08-15T04:00:00+00:00\",\"2017-08-16T04:00:00+00:00\",\"2017-08-17T04:00:00+00:00\",\"2017-08-18T04:00:00+00:00\",\"2017-08-21T04:00:00+00:00\",\"2017-08-22T04:00:00+00:00\",\"2017-08-23T04:00:00+00:00\",\"2017-08-24T04:00:00+00:00\",\"2017-08-25T04:00:00+00:00\",\"2017-08-28T04:00:00+00:00\",\"2017-08-29T04:00:00+00:00\",\"2017-08-30T04:00:00+00:00\",\"2017-08-31T04:00:00+00:00\",\"2017-09-01T04:00:00+00:00\",\"2017-09-05T04:00:00+00:00\",\"2017-09-06T04:00:00+00:00\",\"2017-09-07T04:00:00+00:00\",\"2017-09-08T04:00:00+00:00\",\"2017-09-11T04:00:00+00:00\",\"2017-09-12T04:00:00+00:00\",\"2017-09-13T04:00:00+00:00\",\"2017-09-14T04:00:00+00:00\",\"2017-09-15T04:00:00+00:00\",\"2017-09-18T04:00:00+00:00\",\"2017-09-19T04:00:00+00:00\",\"2017-09-20T04:00:00+00:00\",\"2017-09-21T04:00:00+00:00\",\"2017-09-22T04:00:00+00:00\",\"2017-09-25T04:00:00+00:00\",\"2017-09-26T04:00:00+00:00\",\"2017-09-27T04:00:00+00:00\",\"2017-09-28T04:00:00+00:00\",\"2017-09-29T04:00:00+00:00\",\"2017-10-02T04:00:00+00:00\",\"2017-10-03T04:00:00+00:00\",\"2017-10-04T04:00:00+00:00\",\"2017-10-05T04:00:00+00:00\",\"2017-10-06T04:00:00+00:00\",\"2017-10-09T04:00:00+00:00\",\"2017-10-10T04:00:00+00:00\",\"2017-10-11T04:00:00+00:00\",\"2017-10-12T04:00:00+00:00\",\"2017-10-13T04:00:00+00:00\",\"2017-10-16T04:00:00+00:00\",\"2017-10-17T04:00:00+00:00\",\"2017-10-18T04:00:00+00:00\",\"2017-10-19T04:00:00+00:00\",\"2017-10-20T04:00:00+00:00\",\"2017-10-23T04:00:00+00:00\",\"2017-10-24T04:00:00+00:00\",\"2017-10-25T04:00:00+00:00\",\"2017-10-26T04:00:00+00:00\",\"2017-10-27T04:00:00+00:00\",\"2017-10-30T04:00:00+00:00\",\"2017-10-31T04:00:00+00:00\",\"2017-11-01T04:00:00+00:00\",\"2017-11-02T04:00:00+00:00\",\"2017-11-03T04:00:00+00:00\",\"2017-11-06T05:00:00+00:00\",\"2017-11-07T05:00:00+00:00\",\"2017-11-08T05:00:00+00:00\",\"2017-11-09T05:00:00+00:00\",\"2017-11-10T05:00:00+00:00\",\"2017-11-13T05:00:00+00:00\",\"2017-11-14T05:00:00+00:00\",\"2017-11-15T05:00:00+00:00\",\"2017-11-16T05:00:00+00:00\",\"2017-11-17T05:00:00+00:00\",\"2017-11-20T05:00:00+00:00\",\"2017-11-21T05:00:00+00:00\",\"2017-11-22T05:00:00+00:00\",\"2017-11-24T05:00:00+00:00\",\"2017-11-27T05:00:00+00:00\",\"2017-11-28T05:00:00+00:00\",\"2017-11-29T05:00:00+00:00\",\"2017-11-30T05:00:00+00:00\",\"2017-12-01T05:00:00+00:00\",\"2017-12-04T05:00:00+00:00\",\"2017-12-05T05:00:00+00:00\",\"2017-12-06T05:00:00+00:00\",\"2017-12-07T05:00:00+00:00\",\"2017-12-08T05:00:00+00:00\",\"2017-12-11T05:00:00+00:00\",\"2017-12-12T05:00:00+00:00\",\"2017-12-13T05:00:00+00:00\",\"2017-12-14T05:00:00+00:00\",\"2017-12-15T05:00:00+00:00\",\"2017-12-18T05:00:00+00:00\",\"2017-12-19T05:00:00+00:00\",\"2017-12-20T05:00:00+00:00\",\"2017-12-21T05:00:00+00:00\",\"2017-12-22T05:00:00+00:00\",\"2017-12-26T05:00:00+00:00\",\"2017-12-27T05:00:00+00:00\",\"2017-12-28T05:00:00+00:00\",\"2017-12-29T05:00:00+00:00\"],\"type\":\"scatter\",\"uid\":\"078faf94-89c1-47b6-b92d-bd4587a30b26\",\"y\":[null,null,null,null,null,null,null,null,null,27.67379665374756,27.7636381149292,27.851608276367188,27.930921745300292,27.981691360473633,28.004619598388672,28.06942672729492,28.12066478729248,28.183835220336913,28.24443187713623,28.276016807556154,28.480968284606934,28.685684776306154,28.898122215270995,29.136998176574707,29.407459259033203,29.645165634155273,29.90379104614258,30.155132484436034,30.44145259857178,30.774974822998047,30.94687976837158,31.120171546936035,31.289290809631346,31.453127288818358,31.59758644104004,31.716484832763673,31.816114616394042,31.929138946533204,32.01608085632324,32.12816486358643,32.209231758117674,32.31332702636719,32.39838829040527,32.46465148925781,32.50906105041504,32.55958137512207,32.617855834960935,32.67119522094727,32.718190383911136,32.733934783935545,32.77458534240723,32.779520416259764,32.82933578491211,32.83685569763183,32.893721389770505,32.94635543823242,32.981602096557616,33.021078491210936,33.13410339355469,33.2201042175293,33.29623680114746,33.382473373413085,33.43510780334473,33.55094985961914,33.612043380737305,33.67642784118652,33.73987159729004,33.793680572509764,33.74268989562988,33.688175964355466,33.62050247192383,33.57750205993652,33.51875801086426,33.42265319824219,33.38552665710449,33.35286521911621,33.35991439819336,33.39187126159668,33.44004096984863,33.48680038452149,33.54789390563965,33.659507751464844,33.80777702331543,33.95769348144531,34.053798294067384,34.21099662780762,34.431169509887695,34.65345916748047,34.878567123413085,35.13223571777344,35.4399227142334,35.66932220458985,35.87144432067871,35.96097412109375,36.11699104309082,36.22817764282227,36.26614151000977,36.2765926361084,36.29334564208985,36.29145736694336,36.232705688476564,36.18480911254883,36.120866775512695,36.189998626708984,36.258658981323244,36.27918472290039,36.29003791809082,36.32708206176758,36.36601371765137,36.25063591003418,36.05739555358887,35.890343856811526,35.71102447509766,35.50126724243164,35.190290451049805,35.01120834350586,34.788473510742186,34.564323806762694,34.34347648620606,34.27977104187012,34.28920936584473,34.221728515625,34.23753700256348,34.22314376831055,34.26443328857422,34.19742279052734,34.17571601867676,34.10162925720215,34.06741638183594,34.0386302947998,34.03178749084473,34.07921371459961,34.12498741149902,34.25145645141602,34.38217124938965,34.5374252319336,34.70093765258789,34.8804931640625,35.02418518066406,35.19005661010742,35.3601749420166,35.54232597351074,35.60815544128418,35.619008255004886,35.5994255065918,35.59871711730957,35.74311637878418,35.86651611328125,36.010916519165036,36.169473266601564,36.3426570892334,36.52197608947754,36.64867744445801,36.851554489135744,37.12873649597168,37.416229248046875,37.5210376739502,37.58969650268555,37.63047904968262,37.607293701171876,37.615020751953125,37.604362106323244,37.697927474975586,37.75430335998535,37.79267768859863,37.823707580566406,37.88055763244629,38.02599830627442,38.18115043640137,38.29650764465332,38.346961975097656,38.377281188964844,38.362121200561525,38.40096893310547,38.38651962280274,38.30929946899414,38.18920364379883,38.091610717773435,37.964172744750975,37.884820556640626,37.746487045288085,37.56006774902344,37.400414657592776,37.14103813171387,36.95817222595215,36.829786682128905,36.71134986877441,36.57491226196289,36.45979309082031,36.35912170410156,36.29777030944824,36.34514465332031,36.42591857910156,36.55122375488281,36.61660041809082,36.67155456542969,36.735984802246094,36.80396690368652,36.947747802734376,37.08963470458984,37.2383918762207,37.252367401123045,37.274871063232425,37.28268890380859,37.311113357543945,37.307797241210935,37.341196060180664,37.484740829467775,37.646763229370116,37.84976387023926,38.018653869628906,38.3059814453125,38.690900039672854,39.11916580200195,39.538669204711915,40.00838928222656,40.44589500427246,40.73601531982422,40.92256240844726,40.99163284301758,41.057905960083005,41.143301773071286,41.10212593078613,41.01545677185059,40.9906421661377,40.97522163391113,40.96856575012207,40.954777526855466,40.93338241577148,40.88916549682617,40.95501594543457,40.953826904296875,40.945505905151364,40.93742332458496,40.83924331665039,40.705166244506835,40.57203903198242,40.538282775878905,40.50571403503418,40.57204055786133,40.58083610534668,40.650252151489255,40.80762634277344,40.92411079406738,41.051055145263675,41.186319732666014,41.32039680480957,41.270473861694335,41.24432373046875,41.216033935546875,41.144953918457034]},{\"name\":\"M\\u00e9dia M\\u00f3vel Longa\",\"showlegend\":true,\"x\":[\"2017-01-03T05:00:00+00:00\",\"2017-01-04T05:00:00+00:00\",\"2017-01-05T05:00:00+00:00\",\"2017-01-06T05:00:00+00:00\",\"2017-01-09T05:00:00+00:00\",\"2017-01-10T05:00:00+00:00\",\"2017-01-11T05:00:00+00:00\",\"2017-01-12T05:00:00+00:00\",\"2017-01-13T05:00:00+00:00\",\"2017-01-17T05:00:00+00:00\",\"2017-01-18T05:00:00+00:00\",\"2017-01-19T05:00:00+00:00\",\"2017-01-20T05:00:00+00:00\",\"2017-01-23T05:00:00+00:00\",\"2017-01-24T05:00:00+00:00\",\"2017-01-25T05:00:00+00:00\",\"2017-01-26T05:00:00+00:00\",\"2017-01-27T05:00:00+00:00\",\"2017-01-30T05:00:00+00:00\",\"2017-01-31T05:00:00+00:00\",\"2017-02-01T05:00:00+00:00\",\"2017-02-02T05:00:00+00:00\",\"2017-02-03T05:00:00+00:00\",\"2017-02-06T05:00:00+00:00\",\"2017-02-07T05:00:00+00:00\",\"2017-02-08T05:00:00+00:00\",\"2017-02-09T05:00:00+00:00\",\"2017-02-10T05:00:00+00:00\",\"2017-02-13T05:00:00+00:00\",\"2017-02-14T05:00:00+00:00\",\"2017-02-15T05:00:00+00:00\",\"2017-02-16T05:00:00+00:00\",\"2017-02-17T05:00:00+00:00\",\"2017-02-21T05:00:00+00:00\",\"2017-02-22T05:00:00+00:00\",\"2017-02-23T05:00:00+00:00\",\"2017-02-24T05:00:00+00:00\",\"2017-02-27T05:00:00+00:00\",\"2017-02-28T05:00:00+00:00\",\"2017-03-01T05:00:00+00:00\",\"2017-03-02T05:00:00+00:00\",\"2017-03-03T05:00:00+00:00\",\"2017-03-06T05:00:00+00:00\",\"2017-03-07T05:00:00+00:00\",\"2017-03-08T05:00:00+00:00\",\"2017-03-09T05:00:00+00:00\",\"2017-03-10T05:00:00+00:00\",\"2017-03-13T04:00:00+00:00\",\"2017-03-14T04:00:00+00:00\",\"2017-03-15T04:00:00+00:00\",\"2017-03-16T04:00:00+00:00\",\"2017-03-17T04:00:00+00:00\",\"2017-03-20T04:00:00+00:00\",\"2017-03-21T04:00:00+00:00\",\"2017-03-22T04:00:00+00:00\",\"2017-03-23T04:00:00+00:00\",\"2017-03-24T04:00:00+00:00\",\"2017-03-27T04:00:00+00:00\",\"2017-03-28T04:00:00+00:00\",\"2017-03-29T04:00:00+00:00\",\"2017-03-30T04:00:00+00:00\",\"2017-03-31T04:00:00+00:00\",\"2017-04-03T04:00:00+00:00\",\"2017-04-04T04:00:00+00:00\",\"2017-04-05T04:00:00+00:00\",\"2017-04-06T04:00:00+00:00\",\"2017-04-07T04:00:00+00:00\",\"2017-04-10T04:00:00+00:00\",\"2017-04-11T04:00:00+00:00\",\"2017-04-12T04:00:00+00:00\",\"2017-04-13T04:00:00+00:00\",\"2017-04-17T04:00:00+00:00\",\"2017-04-18T04:00:00+00:00\",\"2017-04-19T04:00:00+00:00\",\"2017-04-20T04:00:00+00:00\",\"2017-04-21T04:00:00+00:00\",\"2017-04-24T04:00:00+00:00\",\"2017-04-25T04:00:00+00:00\",\"2017-04-26T04:00:00+00:00\",\"2017-04-27T04:00:00+00:00\",\"2017-04-28T04:00:00+00:00\",\"2017-05-01T04:00:00+00:00\",\"2017-05-02T04:00:00+00:00\",\"2017-05-03T04:00:00+00:00\",\"2017-05-04T04:00:00+00:00\",\"2017-05-05T04:00:00+00:00\",\"2017-05-08T04:00:00+00:00\",\"2017-05-09T04:00:00+00:00\",\"2017-05-10T04:00:00+00:00\",\"2017-05-11T04:00:00+00:00\",\"2017-05-12T04:00:00+00:00\",\"2017-05-15T04:00:00+00:00\",\"2017-05-16T04:00:00+00:00\",\"2017-05-17T04:00:00+00:00\",\"2017-05-18T04:00:00+00:00\",\"2017-05-19T04:00:00+00:00\",\"2017-05-22T04:00:00+00:00\",\"2017-05-23T04:00:00+00:00\",\"2017-05-24T04:00:00+00:00\",\"2017-05-25T04:00:00+00:00\",\"2017-05-26T04:00:00+00:00\",\"2017-05-30T04:00:00+00:00\",\"2017-05-31T04:00:00+00:00\",\"2017-06-01T04:00:00+00:00\",\"2017-06-02T04:00:00+00:00\",\"2017-06-05T04:00:00+00:00\",\"2017-06-06T04:00:00+00:00\",\"2017-06-07T04:00:00+00:00\",\"2017-06-08T04:00:00+00:00\",\"2017-06-09T04:00:00+00:00\",\"2017-06-12T04:00:00+00:00\",\"2017-06-13T04:00:00+00:00\",\"2017-06-14T04:00:00+00:00\",\"2017-06-15T04:00:00+00:00\",\"2017-06-16T04:00:00+00:00\",\"2017-06-19T04:00:00+00:00\",\"2017-06-20T04:00:00+00:00\",\"2017-06-21T04:00:00+00:00\",\"2017-06-22T04:00:00+00:00\",\"2017-06-23T04:00:00+00:00\",\"2017-06-26T04:00:00+00:00\",\"2017-06-27T04:00:00+00:00\",\"2017-06-28T04:00:00+00:00\",\"2017-06-29T04:00:00+00:00\",\"2017-06-30T04:00:00+00:00\",\"2017-07-03T04:00:00+00:00\",\"2017-07-05T04:00:00+00:00\",\"2017-07-06T04:00:00+00:00\",\"2017-07-07T04:00:00+00:00\",\"2017-07-10T04:00:00+00:00\",\"2017-07-11T04:00:00+00:00\",\"2017-07-12T04:00:00+00:00\",\"2017-07-13T04:00:00+00:00\",\"2017-07-14T04:00:00+00:00\",\"2017-07-17T04:00:00+00:00\",\"2017-07-18T04:00:00+00:00\",\"2017-07-19T04:00:00+00:00\",\"2017-07-20T04:00:00+00:00\",\"2017-07-21T04:00:00+00:00\",\"2017-07-24T04:00:00+00:00\",\"2017-07-25T04:00:00+00:00\",\"2017-07-26T04:00:00+00:00\",\"2017-07-27T04:00:00+00:00\",\"2017-07-28T04:00:00+00:00\",\"2017-07-31T04:00:00+00:00\",\"2017-08-01T04:00:00+00:00\",\"2017-08-02T04:00:00+00:00\",\"2017-08-03T04:00:00+00:00\",\"2017-08-04T04:00:00+00:00\",\"2017-08-07T04:00:00+00:00\",\"2017-08-08T04:00:00+00:00\",\"2017-08-09T04:00:00+00:00\",\"2017-08-10T04:00:00+00:00\",\"2017-08-11T04:00:00+00:00\",\"2017-08-14T04:00:00+00:00\",\"2017-08-15T04:00:00+00:00\",\"2017-08-16T04:00:00+00:00\",\"2017-08-17T04:00:00+00:00\",\"2017-08-18T04:00:00+00:00\",\"2017-08-21T04:00:00+00:00\",\"2017-08-22T04:00:00+00:00\",\"2017-08-23T04:00:00+00:00\",\"2017-08-24T04:00:00+00:00\",\"2017-08-25T04:00:00+00:00\",\"2017-08-28T04:00:00+00:00\",\"2017-08-29T04:00:00+00:00\",\"2017-08-30T04:00:00+00:00\",\"2017-08-31T04:00:00+00:00\",\"2017-09-01T04:00:00+00:00\",\"2017-09-05T04:00:00+00:00\",\"2017-09-06T04:00:00+00:00\",\"2017-09-07T04:00:00+00:00\",\"2017-09-08T04:00:00+00:00\",\"2017-09-11T04:00:00+00:00\",\"2017-09-12T04:00:00+00:00\",\"2017-09-13T04:00:00+00:00\",\"2017-09-14T04:00:00+00:00\",\"2017-09-15T04:00:00+00:00\",\"2017-09-18T04:00:00+00:00\",\"2017-09-19T04:00:00+00:00\",\"2017-09-20T04:00:00+00:00\",\"2017-09-21T04:00:00+00:00\",\"2017-09-22T04:00:00+00:00\",\"2017-09-25T04:00:00+00:00\",\"2017-09-26T04:00:00+00:00\",\"2017-09-27T04:00:00+00:00\",\"2017-09-28T04:00:00+00:00\",\"2017-09-29T04:00:00+00:00\",\"2017-10-02T04:00:00+00:00\",\"2017-10-03T04:00:00+00:00\",\"2017-10-04T04:00:00+00:00\",\"2017-10-05T04:00:00+00:00\",\"2017-10-06T04:00:00+00:00\",\"2017-10-09T04:00:00+00:00\",\"2017-10-10T04:00:00+00:00\",\"2017-10-11T04:00:00+00:00\",\"2017-10-12T04:00:00+00:00\",\"2017-10-13T04:00:00+00:00\",\"2017-10-16T04:00:00+00:00\",\"2017-10-17T04:00:00+00:00\",\"2017-10-18T04:00:00+00:00\",\"2017-10-19T04:00:00+00:00\",\"2017-10-20T04:00:00+00:00\",\"2017-10-23T04:00:00+00:00\",\"2017-10-24T04:00:00+00:00\",\"2017-10-25T04:00:00+00:00\",\"2017-10-26T04:00:00+00:00\",\"2017-10-27T04:00:00+00:00\",\"2017-10-30T04:00:00+00:00\",\"2017-10-31T04:00:00+00:00\",\"2017-11-01T04:00:00+00:00\",\"2017-11-02T04:00:00+00:00\",\"2017-11-03T04:00:00+00:00\",\"2017-11-06T05:00:00+00:00\",\"2017-11-07T05:00:00+00:00\",\"2017-11-08T05:00:00+00:00\",\"2017-11-09T05:00:00+00:00\",\"2017-11-10T05:00:00+00:00\",\"2017-11-13T05:00:00+00:00\",\"2017-11-14T05:00:00+00:00\",\"2017-11-15T05:00:00+00:00\",\"2017-11-16T05:00:00+00:00\",\"2017-11-17T05:00:00+00:00\",\"2017-11-20T05:00:00+00:00\",\"2017-11-21T05:00:00+00:00\",\"2017-11-22T05:00:00+00:00\",\"2017-11-24T05:00:00+00:00\",\"2017-11-27T05:00:00+00:00\",\"2017-11-28T05:00:00+00:00\",\"2017-11-29T05:00:00+00:00\",\"2017-11-30T05:00:00+00:00\",\"2017-12-01T05:00:00+00:00\",\"2017-12-04T05:00:00+00:00\",\"2017-12-05T05:00:00+00:00\",\"2017-12-06T05:00:00+00:00\",\"2017-12-07T05:00:00+00:00\",\"2017-12-08T05:00:00+00:00\",\"2017-12-11T05:00:00+00:00\",\"2017-12-12T05:00:00+00:00\",\"2017-12-13T05:00:00+00:00\",\"2017-12-14T05:00:00+00:00\",\"2017-12-15T05:00:00+00:00\",\"2017-12-18T05:00:00+00:00\",\"2017-12-19T05:00:00+00:00\",\"2017-12-20T05:00:00+00:00\",\"2017-12-21T05:00:00+00:00\",\"2017-12-22T05:00:00+00:00\",\"2017-12-26T05:00:00+00:00\",\"2017-12-27T05:00:00+00:00\",\"2017-12-28T05:00:00+00:00\",\"2017-12-29T05:00:00+00:00\"],\"type\":\"scatter\",\"uid\":\"842dd014-b81a-4cd2-bda4-7448908fd9fc\",\"y\":[null,null,null,null,null,null,null,null,null,null,null,null,null,null,null,null,null,null,null,null,null,null,null,null,null,null,null,null,null,28.90826276143392,29.063828722635904,29.21915486653646,29.37277825673421,29.523938941955567,29.66988843282064,29.810359064737955,29.9468568166097,30.089368883768717,30.233988444010418,30.39305216471354,30.545693270365398,30.70639444986979,30.861933771769205,31.018258984883627,31.171368916829426,31.30707728068034,31.445920499165855,31.585155550638834,31.725241279602052,31.879024823506672,31.97689895629883,32.07100632985433,32.17233829498291,32.251544825236,32.33345629374186,32.40747388203939,32.47185751597087,32.540470886230466,32.62279154459635,32.69406795501709,32.76001796722412,32.825106938680015,32.887610626220706,32.95081901550293,33.00494194030762,33.06078821818034,33.1131098429362,33.16198476155599,33.1983278910319,33.214071655273436,33.23044153849284,33.246498616536456,33.26106719970703,33.27015291849772,33.29709714253743,33.325216166178386,33.360462697347,33.40221010843913,33.438944753011064,33.46502685546875,33.48821105957031,33.53982772827148,33.5872142791748,33.64376551310222,33.68378944396973,33.74676322937012,33.8436518351237,33.94633700052897,34.02043266296387,34.102404022216795,34.202773030598955,34.30211067199707,34.399326451619466,34.44710693359375,34.518771998087566,34.597346496582034,34.68574180603027,34.773974355061846,34.87065124511719,34.9701644897461,35.073507436116536,35.17121302286784,35.266696039835615,35.369555409749346,35.47648277282715,35.57278633117676,35.66244964599609,35.75237795511882,35.84597549438477,35.89144299825033,35.91000798543294,35.9148250579834,35.90111185709635,35.884079996744795,35.85531349182129,35.83952356974284,35.78155097961426,35.72266616821289,35.66761194864909,35.60728810628255,35.52643686930339,35.43229382832845,35.356476084391275,35.304803212483726,35.23779424031576,35.16260528564453,35.08474248250325,34.99767837524414,34.925635528564456,34.85634574890137,34.79279747009277,34.73042869567871,34.691182963053386,34.65862248738607,34.612298329671226,34.582018788655596,34.55504239400228,34.515482076009114,34.478359349568684,34.50281931559245,34.560390599568684,34.61442273457845,34.65689328511556,34.69786949157715,34.74867668151855,34.77785504659017,34.87325668334961,34.94954617818197,35.034172693888344,35.1327200571696,35.244873174031575,35.38117192586263,35.46060676574707,35.57400639851888,35.703444417317705,35.85079053243001,35.988363901774086,36.11223526000977,36.22186024983724,36.32227452596029,36.439284261067705,36.556221389770506,36.65158678690592,36.74162203470866,36.84027989705404,36.946217981974286,37.04823722839355,37.1607369740804,37.27418200174967,37.35775820414225,37.43487993876139,37.501206461588545,37.56957537333171,37.668942260742185,37.76931126912435,37.849745432535805,37.863599650065105,37.9024351755778,37.92526741027832,37.92954063415527,37.902823257446286,37.847237014770506,37.82015444437663,37.76543680826823,37.71245651245117,37.65426457722982,37.59370371500651,37.564173762003584,37.535038757324216,37.5134833017985,37.46373977661133,37.42749786376953,37.39615147908528,37.36441027323405,37.320430755615234,37.27021357218425,37.21217943827311,37.15682996114095,37.12390454610189,37.111192321777345,37.094216410319014,37.0525266011556,37.033734766642254,36.99165026346842,36.96196200052897,36.936379496256514,36.92951024373372,36.9545399983724,37.018101374308266,37.09950675964355,37.18493868509928,37.30116449991862,37.46389656066894,37.65102615356445,37.82212766011556,37.995913696289065,38.17435862223307,38.341574350992836,38.50569114685059,38.643677139282225,38.771650568644205,38.90055020650228,39.0226323445638,39.13910382588704,39.280141576131186,39.43046938578288,39.58521893819173,39.72517789204915,39.834236017862956,39.910187403361,40.01052525838216,40.13437004089356,40.24617729187012,40.3573486328125,40.45618489583333,40.56292572021484,40.662166595458984,40.74302520751953,40.78721961975098,40.817612965901695,40.86458600362142,40.91579360961914,40.95175272623698,40.95899696350098,40.96031354268392,40.95556920369466,40.95366719563802,40.92117805480957,40.89447339375814,40.89241333007813,40.893601989746095]},{\"line\":{\"color\":\"#1f77b4\"},\"name\":\"Close\",\"showlegend\":true,\"visible\":false,\"x\":[\"2017-01-03T05:00:00+00:00\",\"2017-01-04T05:00:00+00:00\",\"2017-01-05T05:00:00+00:00\",\"2017-01-06T05:00:00+00:00\",\"2017-01-09T05:00:00+00:00\",\"2017-01-10T05:00:00+00:00\",\"2017-01-11T05:00:00+00:00\",\"2017-01-12T05:00:00+00:00\",\"2017-01-13T05:00:00+00:00\",\"2017-01-17T05:00:00+00:00\",\"2017-01-18T05:00:00+00:00\",\"2017-01-19T05:00:00+00:00\",\"2017-01-20T05:00:00+00:00\",\"2017-01-23T05:00:00+00:00\",\"2017-01-24T05:00:00+00:00\",\"2017-01-25T05:00:00+00:00\",\"2017-01-26T05:00:00+00:00\",\"2017-01-27T05:00:00+00:00\",\"2017-01-30T05:00:00+00:00\",\"2017-01-31T05:00:00+00:00\",\"2017-02-01T05:00:00+00:00\",\"2017-02-02T05:00:00+00:00\",\"2017-02-03T05:00:00+00:00\",\"2017-02-06T05:00:00+00:00\",\"2017-02-07T05:00:00+00:00\",\"2017-02-08T05:00:00+00:00\",\"2017-02-09T05:00:00+00:00\",\"2017-02-10T05:00:00+00:00\",\"2017-02-13T05:00:00+00:00\",\"2017-02-14T05:00:00+00:00\",\"2017-02-15T05:00:00+00:00\",\"2017-02-16T05:00:00+00:00\",\"2017-02-17T05:00:00+00:00\",\"2017-02-21T05:00:00+00:00\",\"2017-02-22T05:00:00+00:00\",\"2017-02-23T05:00:00+00:00\",\"2017-02-24T05:00:00+00:00\",\"2017-02-27T05:00:00+00:00\",\"2017-02-28T05:00:00+00:00\",\"2017-03-01T05:00:00+00:00\",\"2017-03-02T05:00:00+00:00\",\"2017-03-03T05:00:00+00:00\",\"2017-03-06T05:00:00+00:00\",\"2017-03-07T05:00:00+00:00\",\"2017-03-08T05:00:00+00:00\",\"2017-03-09T05:00:00+00:00\",\"2017-03-10T05:00:00+00:00\",\"2017-03-13T04:00:00+00:00\",\"2017-03-14T04:00:00+00:00\",\"2017-03-15T04:00:00+00:00\",\"2017-03-16T04:00:00+00:00\",\"2017-03-17T04:00:00+00:00\",\"2017-03-20T04:00:00+00:00\",\"2017-03-21T04:00:00+00:00\",\"2017-03-22T04:00:00+00:00\",\"2017-03-23T04:00:00+00:00\",\"2017-03-24T04:00:00+00:00\",\"2017-03-27T04:00:00+00:00\",\"2017-03-28T04:00:00+00:00\",\"2017-03-29T04:00:00+00:00\",\"2017-03-30T04:00:00+00:00\",\"2017-03-31T04:00:00+00:00\",\"2017-04-03T04:00:00+00:00\",\"2017-04-04T04:00:00+00:00\",\"2017-04-05T04:00:00+00:00\",\"2017-04-06T04:00:00+00:00\",\"2017-04-07T04:00:00+00:00\",\"2017-04-10T04:00:00+00:00\",\"2017-04-11T04:00:00+00:00\",\"2017-04-12T04:00:00+00:00\",\"2017-04-13T04:00:00+00:00\",\"2017-04-17T04:00:00+00:00\",\"2017-04-18T04:00:00+00:00\",\"2017-04-19T04:00:00+00:00\",\"2017-04-20T04:00:00+00:00\",\"2017-04-21T04:00:00+00:00\",\"2017-04-24T04:00:00+00:00\",\"2017-04-25T04:00:00+00:00\",\"2017-04-26T04:00:00+00:00\",\"2017-04-27T04:00:00+00:00\",\"2017-04-28T04:00:00+00:00\",\"2017-05-01T04:00:00+00:00\",\"2017-05-02T04:00:00+00:00\",\"2017-05-03T04:00:00+00:00\",\"2017-05-04T04:00:00+00:00\",\"2017-05-05T04:00:00+00:00\",\"2017-05-08T04:00:00+00:00\",\"2017-05-09T04:00:00+00:00\",\"2017-05-10T04:00:00+00:00\",\"2017-05-11T04:00:00+00:00\",\"2017-05-12T04:00:00+00:00\",\"2017-05-15T04:00:00+00:00\",\"2017-05-16T04:00:00+00:00\",\"2017-05-17T04:00:00+00:00\",\"2017-05-18T04:00:00+00:00\",\"2017-05-19T04:00:00+00:00\",\"2017-05-22T04:00:00+00:00\",\"2017-05-23T04:00:00+00:00\",\"2017-05-24T04:00:00+00:00\",\"2017-05-25T04:00:00+00:00\",\"2017-05-26T04:00:00+00:00\",\"2017-05-30T04:00:00+00:00\",\"2017-05-31T04:00:00+00:00\",\"2017-06-01T04:00:00+00:00\",\"2017-06-02T04:00:00+00:00\",\"2017-06-05T04:00:00+00:00\",\"2017-06-06T04:00:00+00:00\",\"2017-06-07T04:00:00+00:00\",\"2017-06-08T04:00:00+00:00\",\"2017-06-09T04:00:00+00:00\",\"2017-06-12T04:00:00+00:00\",\"2017-06-13T04:00:00+00:00\",\"2017-06-14T04:00:00+00:00\",\"2017-06-15T04:00:00+00:00\",\"2017-06-16T04:00:00+00:00\",\"2017-06-19T04:00:00+00:00\",\"2017-06-20T04:00:00+00:00\",\"2017-06-21T04:00:00+00:00\",\"2017-06-22T04:00:00+00:00\",\"2017-06-23T04:00:00+00:00\",\"2017-06-26T04:00:00+00:00\",\"2017-06-27T04:00:00+00:00\",\"2017-06-28T04:00:00+00:00\",\"2017-06-29T04:00:00+00:00\",\"2017-06-30T04:00:00+00:00\",\"2017-07-03T04:00:00+00:00\",\"2017-07-05T04:00:00+00:00\",\"2017-07-06T04:00:00+00:00\",\"2017-07-07T04:00:00+00:00\",\"2017-07-10T04:00:00+00:00\",\"2017-07-11T04:00:00+00:00\",\"2017-07-12T04:00:00+00:00\",\"2017-07-13T04:00:00+00:00\",\"2017-07-14T04:00:00+00:00\",\"2017-07-17T04:00:00+00:00\",\"2017-07-18T04:00:00+00:00\",\"2017-07-19T04:00:00+00:00\",\"2017-07-20T04:00:00+00:00\",\"2017-07-21T04:00:00+00:00\",\"2017-07-24T04:00:00+00:00\",\"2017-07-25T04:00:00+00:00\",\"2017-07-26T04:00:00+00:00\",\"2017-07-27T04:00:00+00:00\",\"2017-07-28T04:00:00+00:00\",\"2017-07-31T04:00:00+00:00\",\"2017-08-01T04:00:00+00:00\",\"2017-08-02T04:00:00+00:00\",\"2017-08-03T04:00:00+00:00\",\"2017-08-04T04:00:00+00:00\",\"2017-08-07T04:00:00+00:00\",\"2017-08-08T04:00:00+00:00\",\"2017-08-09T04:00:00+00:00\",\"2017-08-10T04:00:00+00:00\",\"2017-08-11T04:00:00+00:00\",\"2017-08-14T04:00:00+00:00\",\"2017-08-15T04:00:00+00:00\",\"2017-08-16T04:00:00+00:00\",\"2017-08-17T04:00:00+00:00\",\"2017-08-18T04:00:00+00:00\",\"2017-08-21T04:00:00+00:00\",\"2017-08-22T04:00:00+00:00\",\"2017-08-23T04:00:00+00:00\",\"2017-08-24T04:00:00+00:00\",\"2017-08-25T04:00:00+00:00\",\"2017-08-28T04:00:00+00:00\",\"2017-08-29T04:00:00+00:00\",\"2017-08-30T04:00:00+00:00\",\"2017-08-31T04:00:00+00:00\",\"2017-09-01T04:00:00+00:00\",\"2017-09-05T04:00:00+00:00\",\"2017-09-06T04:00:00+00:00\",\"2017-09-07T04:00:00+00:00\",\"2017-09-08T04:00:00+00:00\",\"2017-09-11T04:00:00+00:00\",\"2017-09-12T04:00:00+00:00\",\"2017-09-13T04:00:00+00:00\",\"2017-09-14T04:00:00+00:00\",\"2017-09-15T04:00:00+00:00\",\"2017-09-18T04:00:00+00:00\",\"2017-09-19T04:00:00+00:00\",\"2017-09-20T04:00:00+00:00\",\"2017-09-21T04:00:00+00:00\",\"2017-09-22T04:00:00+00:00\",\"2017-09-25T04:00:00+00:00\",\"2017-09-26T04:00:00+00:00\",\"2017-09-27T04:00:00+00:00\",\"2017-09-28T04:00:00+00:00\",\"2017-09-29T04:00:00+00:00\",\"2017-10-02T04:00:00+00:00\",\"2017-10-03T04:00:00+00:00\",\"2017-10-04T04:00:00+00:00\",\"2017-10-05T04:00:00+00:00\",\"2017-10-06T04:00:00+00:00\",\"2017-10-09T04:00:00+00:00\",\"2017-10-10T04:00:00+00:00\",\"2017-10-11T04:00:00+00:00\",\"2017-10-12T04:00:00+00:00\",\"2017-10-13T04:00:00+00:00\",\"2017-10-16T04:00:00+00:00\",\"2017-10-17T04:00:00+00:00\",\"2017-10-18T04:00:00+00:00\",\"2017-10-19T04:00:00+00:00\",\"2017-10-20T04:00:00+00:00\",\"2017-10-23T04:00:00+00:00\",\"2017-10-24T04:00:00+00:00\",\"2017-10-25T04:00:00+00:00\",\"2017-10-26T04:00:00+00:00\",\"2017-10-27T04:00:00+00:00\",\"2017-10-30T04:00:00+00:00\",\"2017-10-31T04:00:00+00:00\",\"2017-11-01T04:00:00+00:00\",\"2017-11-02T04:00:00+00:00\",\"2017-11-03T04:00:00+00:00\",\"2017-11-06T05:00:00+00:00\",\"2017-11-07T05:00:00+00:00\",\"2017-11-08T05:00:00+00:00\",\"2017-11-09T05:00:00+00:00\",\"2017-11-10T05:00:00+00:00\",\"2017-11-13T05:00:00+00:00\",\"2017-11-14T05:00:00+00:00\",\"2017-11-15T05:00:00+00:00\",\"2017-11-16T05:00:00+00:00\",\"2017-11-17T05:00:00+00:00\",\"2017-11-20T05:00:00+00:00\",\"2017-11-21T05:00:00+00:00\",\"2017-11-22T05:00:00+00:00\",\"2017-11-24T05:00:00+00:00\",\"2017-11-27T05:00:00+00:00\",\"2017-11-28T05:00:00+00:00\",\"2017-11-29T05:00:00+00:00\",\"2017-11-30T05:00:00+00:00\",\"2017-12-01T05:00:00+00:00\",\"2017-12-04T05:00:00+00:00\",\"2017-12-05T05:00:00+00:00\",\"2017-12-06T05:00:00+00:00\",\"2017-12-07T05:00:00+00:00\",\"2017-12-08T05:00:00+00:00\",\"2017-12-11T05:00:00+00:00\",\"2017-12-12T05:00:00+00:00\",\"2017-12-13T05:00:00+00:00\",\"2017-12-14T05:00:00+00:00\",\"2017-12-15T05:00:00+00:00\",\"2017-12-18T05:00:00+00:00\",\"2017-12-19T05:00:00+00:00\",\"2017-12-20T05:00:00+00:00\",\"2017-12-21T05:00:00+00:00\",\"2017-12-22T05:00:00+00:00\",\"2017-12-26T05:00:00+00:00\",\"2017-12-27T05:00:00+00:00\",\"2017-12-28T05:00:00+00:00\",\"2017-12-29T05:00:00+00:00\"],\"type\":\"scatter\",\"uid\":\"5911b7e8-5e7a-45ae-bd54-777a6ad2aaf0\",\"y\":[27.17475700378418,27.14434051513672,27.282377243041992,27.586528778076172,27.839208602905273,27.867286682128906,28.017017364501953,27.900033950805664,27.85090446472168,28.075511932373047,28.073171615600586,28.0240421295166,28.075511932373047,28.09422492980957,28.068490982055664,28.515357971191406,28.52939796447754,28.53173828125,28.456871032714844,28.391361236572266,30.1226863861084,30.07120704650879,30.199886322021484,30.48298454284668,30.773101806640625,30.89242172241211,31.115652084350586,31.04515266418457,31.320072174072266,31.72658348083496,31.84173583984375,31.80412483215332,31.89107894897461,32.1213493347168,32.21769332885742,32.08140563964844,32.1119499206543,32.17539596557617,32.189491271972656,32.8474235534668,32.65240478515625,32.84507751464844,32.74169158935547,32.78398132324219,32.66178894042969,32.58660888671875,32.69469451904297,32.70878982543945,32.65944290161133,33.00486755371094,33.05891036987305,32.89442825317383,33.239845275878906,32.85918045043945,33.230445861816406,33.11294937133789,33.04716110229492,33.103553771972656,33.78969192504883,33.86487579345703,33.82023620605469,33.75679397583008,33.76618957519531,34.017601013183594,33.84138107299805,33.75679397583008,33.68159866333008,33.64164352416992,33.27978515625,33.31973648071289,33.14350128173828,33.32678985595703,33.178749084472656,33.05655288696289,33.470115661621094,33.430179595947266,33.75209045410156,33.961212158203125,33.76148223876953,33.787330627441406,33.75443649291992,34.442928314208984,34.661441802978516,34.55571746826172,34.4311637878418,35.00216293334961,35.953819274902344,36.18410873413086,36.0125617980957,36.32401657104492,36.83130645751953,36.73692321777344,36.68266296386719,35.45101547241211,35.9913330078125,36.11402893066406,36.333457946777344,36.28861999511719,36.180091857910156,36.30513381958008,36.24378967285156,36.257957458496094,36.04323959350586,36.142333984375,36.67793655395508,36.31928634643555,36.44198989868164,36.659061431884766,36.56940841674805,35.1513557434082,34.31138610839844,34.587440490722656,34.25004577636719,34.044761657714844,33.56816864013672,34.528465270996094,34.21464157104492,34.417564392089844,34.36093521118164,34.51430130004883,34.40576934814453,33.91263198852539,34.40813064575195,33.90082931518555,33.98106384277344,33.858360290527344,33.99757385253906,33.67669677734375,34.01880645751953,34.2264404296875,34.33734130859375,34.38689422607422,34.865867614746094,35.16551971435547,35.288211822509766,35.4109001159668,35.63269805908203,35.472251892089844,35.455726623535156,35.885154724121094,36.03852462768555,36.208404541015625,35.52416229248047,35.2740478515625,35.092384338378906,35.40381622314453,37.076690673828125,36.70624923706055,36.89973068237305,37.47072219848633,37.770362854003906,38.00159454345703,36.791175842285156,37.302818298339844,37.86420440673828,38.278743743896484,38.12477493286133,37.39283752441406,37.30755615234375,37.238868713378906,37.847633361816406,37.8950080871582,37.726829528808594,37.8665771484375,38.247947692871094,38.58904266357422,38.693275451660156,38.84724426269531,38.85907745361328,38.39244079589844,38.352176666259766,38.19820022583008,37.57522964477539,38.25505447387695,38.10345458984375,37.81684112548828,37.49231719970703,37.871315002441406,37.58469772338867,37.59891891479492,36.968841552734375,36.334007263183594,35.97869873046875,35.66128921508789,36.27479553222656,36.53298568725586,36.30794906616211,36.50693893432617,36.43350601196289,36.59220504760742,36.35532760620117,36.8077507019043,36.78643798828125,36.91434097290039,36.92856216430664,37.08252716064453,36.95225143432617,37.18675994873047,37.871315002441406,38.01107406616211,37.842899322509766,36.947505950927734,37.011474609375,36.99251937866211,37.212806701660156,37.04936599731445,37.28623962402344,38.62220764160156,39.491539001464844,40.041080474853516,39.53179931640625,39.82078170776367,40.860660552978516,41.275177001953125,41.407840728759766,41.74656677246094,41.66129684448242,41.52341079711914,41.35700988769531,40.73178482055664,40.19453048706055,40.674739837646484,40.44890213012695,40.408485412597656,41.15969467163086,41.59236145019531,41.5947380065918,41.385528564453125,41.14305877685547,40.289615631103516,40.85303497314453,40.66284942626953,40.365692138671875,40.327659606933594,40.177894592285156,40.251590728759766,40.263465881347656,41.04796600341797,40.8173713684082,40.952880859375,40.94099044799805,41.35700988769531,41.93943405151367,41.49250411987305,41.44733810424805,41.6042366027832,41.6042366027832,40.548736572265625,40.555870056152344,40.66998291015625,40.23019027709961]},{\"customdata\":[[0,2.9472008386886297,0.24937655860348684,\"Long\"],[1,2.832282020181522,0.25293538667099824,\"Long\"],[2,2.7860217140961447,0.26423679271239564,\"Long\"],[3,2.6795141543270677,0.27834093983071284,\"Long\"]],\"hovertemplate\":\"Position Id: %{customdata[0]}<br>Size: %{customdata[1]:.6f}<br>Entry Timestamp: %{x}<br>Avg Entry Price: %{y}<br>Entry Fees: %{customdata[2]:.6f}<br>Direction: %{customdata[3]}\",\"marker\":{\"color\":\"#4285F4\",\"line\":{\"color\":\"rgb(11,84,205)\",\"width\":1},\"size\":7,\"symbol\":\"square\"},\"mode\":\"markers\",\"name\":\"Entry\",\"x\":[\"2017-04-26T04:00:00+00:00\",\"2017-07-19T04:00:00+00:00\",\"2017-10-18T04:00:00+00:00\",\"2017-12-20T05:00:00+00:00\"],\"y\":[33.84588594436645,35.72177980422973,37.93750657081604,41.55095644950867],\"type\":\"scatter\",\"uid\":\"9bab66fa-67cc-4df0-9e23-8551a5d5a59a\"},{\"customdata\":[[0,2.9472008386886297,0.2542032332207375,1.4270900550742718,0.014306577802119575,\"Long\",\"33 days 00:00:00\"],[1,2.832282020181522,0.26556128791396255,4.531863822596781,0.04479270261708531,\"Long\",\"43 days 00:00:00\"],[2,2.7860217140961447,0.2797361325115708,5.655762994445711,0.05351036599018986,\"Long\",\"36 days 00:00:00\"]],\"hovertemplate\":\"Position Id: %{customdata[0]}<br>Size: %{customdata[1]:.6f}<br>Exit Timestamp: %{x}<br>Avg Exit Price: %{y}<br>Exit Fees: %{customdata[2]:.6f}<br>PnL: %{customdata[3]:.6f}<br>Return: %{customdata[4]:.2%}<br>Direction: %{customdata[5]}<br>Duration: %{customdata[6]}\",\"marker\":{\"color\":\"#37B13F\",\"line\":{\"color\":\"rgb(38,123,44)\",\"width\":1},\"size\":7,\"symbol\":\"square\"},\"mode\":\"markers\",\"name\":\"Exit - Profit\",\"x\":[\"2017-06-13T04:00:00+00:00\",\"2017-09-19T04:00:00+00:00\",\"2017-12-08T05:00:00+00:00\"],\"y\":[34.50097188949585,37.50492161750794,40.16280721664429],\"type\":\"scatter\",\"uid\":\"c9af4e34-24e1-48e5-aaec-8f467649b5bc\"},{\"customdata\":[[3,2.6795141543270677,0.0,-3.817352593357171,-0.03428666113291541,\"Long\",\"7 days 00:00:00\"]],\"hovertemplate\":\"Position Id: %{customdata[0]}<br>Size: %{customdata[1]:.6f}<br>Exit Timestamp: %{x}<br>Avg Exit Price: %{y}<br>Exit Fees: %{customdata[2]:.6f}<br>PnL: %{customdata[3]:.6f}<br>Return: %{customdata[4]:.2%}<br>Direction: %{customdata[5]}<br>Duration: %{customdata[6]}\",\"marker\":{\"color\":\"#FFAA00\",\"line\":{\"color\":\"rgb(178,118,0)\",\"width\":1},\"size\":7,\"symbol\":\"square\"},\"mode\":\"markers\",\"name\":\"Active\",\"x\":[\"2017-12-29T05:00:00+00:00\"],\"y\":[40.23019027709961],\"type\":\"scatter\",\"uid\":\"15652d75-ce63-4a6a-be47-97c36b5397f6\"}],                        {\"template\":{\"data\":{\"barpolar\":[{\"marker\":{\"line\":{\"color\":\"#E5ECF6\",\"width\":0.5}},\"type\":\"barpolar\"}],\"bar\":[{\"error_x\":{\"color\":\"#2a3f5f\"},\"error_y\":{\"color\":\"#2a3f5f\"},\"marker\":{\"line\":{\"color\":\"#E5ECF6\",\"width\":0.5}},\"type\":\"bar\"}],\"carpet\":[{\"aaxis\":{\"endlinecolor\":\"#2a3f5f\",\"gridcolor\":\"white\",\"linecolor\":\"white\",\"minorgridcolor\":\"white\",\"startlinecolor\":\"#2a3f5f\"},\"baxis\":{\"endlinecolor\":\"#2a3f5f\",\"gridcolor\":\"white\",\"linecolor\":\"white\",\"minorgridcolor\":\"white\",\"startlinecolor\":\"#2a3f5f\"},\"type\":\"carpet\"}],\"choropleth\":[{\"colorbar\":{\"outlinewidth\":0,\"ticks\":\"\"},\"type\":\"choropleth\"}],\"contourcarpet\":[{\"colorbar\":{\"outlinewidth\":0,\"ticks\":\"\"},\"type\":\"contourcarpet\"}],\"contour\":[{\"colorbar\":{\"outlinewidth\":0,\"ticks\":\"\"},\"colorscale\":[[0.0,\"#0d0887\"],[0.1111111111111111,\"#46039f\"],[0.2222222222222222,\"#7201a8\"],[0.3333333333333333,\"#9c179e\"],[0.4444444444444444,\"#bd3786\"],[0.5555555555555556,\"#d8576b\"],[0.6666666666666666,\"#ed7953\"],[0.7777777777777778,\"#fb9f3a\"],[0.8888888888888888,\"#fdca26\"],[1.0,\"#f0f921\"]],\"type\":\"contour\"}],\"heatmapgl\":[{\"colorbar\":{\"outlinewidth\":0,\"ticks\":\"\"},\"colorscale\":[[0.0,\"#0d0887\"],[0.1111111111111111,\"#46039f\"],[0.2222222222222222,\"#7201a8\"],[0.3333333333333333,\"#9c179e\"],[0.4444444444444444,\"#bd3786\"],[0.5555555555555556,\"#d8576b\"],[0.6666666666666666,\"#ed7953\"],[0.7777777777777778,\"#fb9f3a\"],[0.8888888888888888,\"#fdca26\"],[1.0,\"#f0f921\"]],\"type\":\"heatmapgl\"}],\"heatmap\":[{\"colorbar\":{\"outlinewidth\":0,\"ticks\":\"\"},\"colorscale\":[[0.0,\"#0d0887\"],[0.1111111111111111,\"#46039f\"],[0.2222222222222222,\"#7201a8\"],[0.3333333333333333,\"#9c179e\"],[0.4444444444444444,\"#bd3786\"],[0.5555555555555556,\"#d8576b\"],[0.6666666666666666,\"#ed7953\"],[0.7777777777777778,\"#fb9f3a\"],[0.8888888888888888,\"#fdca26\"],[1.0,\"#f0f921\"]],\"type\":\"heatmap\"}],\"histogram2dcontour\":[{\"colorbar\":{\"outlinewidth\":0,\"ticks\":\"\"},\"colorscale\":[[0.0,\"#0d0887\"],[0.1111111111111111,\"#46039f\"],[0.2222222222222222,\"#7201a8\"],[0.3333333333333333,\"#9c179e\"],[0.4444444444444444,\"#bd3786\"],[0.5555555555555556,\"#d8576b\"],[0.6666666666666666,\"#ed7953\"],[0.7777777777777778,\"#fb9f3a\"],[0.8888888888888888,\"#fdca26\"],[1.0,\"#f0f921\"]],\"type\":\"histogram2dcontour\"}],\"histogram2d\":[{\"colorbar\":{\"outlinewidth\":0,\"ticks\":\"\"},\"colorscale\":[[0.0,\"#0d0887\"],[0.1111111111111111,\"#46039f\"],[0.2222222222222222,\"#7201a8\"],[0.3333333333333333,\"#9c179e\"],[0.4444444444444444,\"#bd3786\"],[0.5555555555555556,\"#d8576b\"],[0.6666666666666666,\"#ed7953\"],[0.7777777777777778,\"#fb9f3a\"],[0.8888888888888888,\"#fdca26\"],[1.0,\"#f0f921\"]],\"type\":\"histogram2d\"}],\"histogram\":[{\"marker\":{\"colorbar\":{\"outlinewidth\":0,\"ticks\":\"\"}},\"type\":\"histogram\"}],\"mesh3d\":[{\"colorbar\":{\"outlinewidth\":0,\"ticks\":\"\"},\"type\":\"mesh3d\"}],\"parcoords\":[{\"line\":{\"colorbar\":{\"outlinewidth\":0,\"ticks\":\"\"}},\"type\":\"parcoords\"}],\"pie\":[{\"automargin\":true,\"type\":\"pie\"}],\"scatter3d\":[{\"line\":{\"colorbar\":{\"outlinewidth\":0,\"ticks\":\"\"}},\"marker\":{\"colorbar\":{\"outlinewidth\":0,\"ticks\":\"\"}},\"type\":\"scatter3d\"}],\"scattercarpet\":[{\"marker\":{\"colorbar\":{\"outlinewidth\":0,\"ticks\":\"\"}},\"type\":\"scattercarpet\"}],\"scattergeo\":[{\"marker\":{\"colorbar\":{\"outlinewidth\":0,\"ticks\":\"\"}},\"type\":\"scattergeo\"}],\"scattergl\":[{\"marker\":{\"colorbar\":{\"outlinewidth\":0,\"ticks\":\"\"}},\"type\":\"scattergl\"}],\"scattermapbox\":[{\"marker\":{\"colorbar\":{\"outlinewidth\":0,\"ticks\":\"\"}},\"type\":\"scattermapbox\"}],\"scatterpolargl\":[{\"marker\":{\"colorbar\":{\"outlinewidth\":0,\"ticks\":\"\"}},\"type\":\"scatterpolargl\"}],\"scatterpolar\":[{\"marker\":{\"colorbar\":{\"outlinewidth\":0,\"ticks\":\"\"}},\"type\":\"scatterpolar\"}],\"scatter\":[{\"marker\":{\"colorbar\":{\"outlinewidth\":0,\"ticks\":\"\"}},\"type\":\"scatter\"}],\"scatterternary\":[{\"marker\":{\"colorbar\":{\"outlinewidth\":0,\"ticks\":\"\"}},\"type\":\"scatterternary\"}],\"surface\":[{\"colorbar\":{\"outlinewidth\":0,\"ticks\":\"\"},\"colorscale\":[[0.0,\"#0d0887\"],[0.1111111111111111,\"#46039f\"],[0.2222222222222222,\"#7201a8\"],[0.3333333333333333,\"#9c179e\"],[0.4444444444444444,\"#bd3786\"],[0.5555555555555556,\"#d8576b\"],[0.6666666666666666,\"#ed7953\"],[0.7777777777777778,\"#fb9f3a\"],[0.8888888888888888,\"#fdca26\"],[1.0,\"#f0f921\"]],\"type\":\"surface\"}],\"table\":[{\"cells\":{\"fill\":{\"color\":\"#EBF0F8\"},\"line\":{\"color\":\"white\"}},\"header\":{\"fill\":{\"color\":\"#C8D4E3\"},\"line\":{\"color\":\"white\"}},\"type\":\"table\"}]},\"layout\":{\"annotationdefaults\":{\"arrowcolor\":\"#2a3f5f\",\"arrowhead\":0,\"arrowwidth\":1},\"coloraxis\":{\"colorbar\":{\"outlinewidth\":0,\"ticks\":\"\"}},\"colorscale\":{\"diverging\":[[0,\"#8e0152\"],[0.1,\"#c51b7d\"],[0.2,\"#de77ae\"],[0.3,\"#f1b6da\"],[0.4,\"#fde0ef\"],[0.5,\"#f7f7f7\"],[0.6,\"#e6f5d0\"],[0.7,\"#b8e186\"],[0.8,\"#7fbc41\"],[0.9,\"#4d9221\"],[1,\"#276419\"]],\"sequential\":[[0.0,\"#0d0887\"],[0.1111111111111111,\"#46039f\"],[0.2222222222222222,\"#7201a8\"],[0.3333333333333333,\"#9c179e\"],[0.4444444444444444,\"#bd3786\"],[0.5555555555555556,\"#d8576b\"],[0.6666666666666666,\"#ed7953\"],[0.7777777777777778,\"#fb9f3a\"],[0.8888888888888888,\"#fdca26\"],[1.0,\"#f0f921\"]],\"sequentialminus\":[[0.0,\"#0d0887\"],[0.1111111111111111,\"#46039f\"],[0.2222222222222222,\"#7201a8\"],[0.3333333333333333,\"#9c179e\"],[0.4444444444444444,\"#bd3786\"],[0.5555555555555556,\"#d8576b\"],[0.6666666666666666,\"#ed7953\"],[0.7777777777777778,\"#fb9f3a\"],[0.8888888888888888,\"#fdca26\"],[1.0,\"#f0f921\"]]},\"colorway\":[\"#1f77b4\",\"#ff7f0e\",\"#2ca02c\",\"#dc3912\",\"#9467bd\",\"#8c564b\",\"#e377c2\",\"#7f7f7f\",\"#bcbd22\",\"#17becf\"],\"font\":{\"color\":\"#2a3f5f\"},\"geo\":{\"bgcolor\":\"white\",\"lakecolor\":\"white\",\"landcolor\":\"#E5ECF6\",\"showlakes\":true,\"showland\":true,\"subunitcolor\":\"white\"},\"hoverlabel\":{\"align\":\"left\"},\"hovermode\":\"closest\",\"mapbox\":{\"style\":\"light\"},\"paper_bgcolor\":\"white\",\"plot_bgcolor\":\"#E5ECF6\",\"polar\":{\"angularaxis\":{\"gridcolor\":\"white\",\"linecolor\":\"white\",\"ticks\":\"\"},\"bgcolor\":\"#E5ECF6\",\"radialaxis\":{\"gridcolor\":\"white\",\"linecolor\":\"white\",\"ticks\":\"\"}},\"scene\":{\"xaxis\":{\"backgroundcolor\":\"#E5ECF6\",\"gridcolor\":\"white\",\"gridwidth\":2,\"linecolor\":\"white\",\"showbackground\":true,\"ticks\":\"\",\"zerolinecolor\":\"white\"},\"yaxis\":{\"backgroundcolor\":\"#E5ECF6\",\"gridcolor\":\"white\",\"gridwidth\":2,\"linecolor\":\"white\",\"showbackground\":true,\"ticks\":\"\",\"zerolinecolor\":\"white\"},\"zaxis\":{\"backgroundcolor\":\"#E5ECF6\",\"gridcolor\":\"white\",\"gridwidth\":2,\"linecolor\":\"white\",\"showbackground\":true,\"ticks\":\"\",\"zerolinecolor\":\"white\"}},\"shapedefaults\":{\"line\":{\"color\":\"#2a3f5f\"}},\"ternary\":{\"aaxis\":{\"gridcolor\":\"white\",\"linecolor\":\"white\",\"ticks\":\"\"},\"baxis\":{\"gridcolor\":\"white\",\"linecolor\":\"white\",\"ticks\":\"\"},\"bgcolor\":\"#E5ECF6\",\"caxis\":{\"gridcolor\":\"white\",\"linecolor\":\"white\",\"ticks\":\"\"}},\"title\":{\"x\":0.05},\"xaxis\":{\"automargin\":true,\"gridcolor\":\"white\",\"linecolor\":\"white\",\"ticks\":\"\",\"title\":{\"standoff\":15},\"zerolinecolor\":\"white\",\"zerolinewidth\":2},\"yaxis\":{\"automargin\":true,\"gridcolor\":\"white\",\"linecolor\":\"white\",\"ticks\":\"\",\"title\":{\"standoff\":15},\"zerolinecolor\":\"white\",\"zerolinewidth\":2}}},\"margin\":{\"t\":30,\"b\":30,\"l\":30,\"r\":30},\"legend\":{\"orientation\":\"h\",\"yanchor\":\"bottom\",\"y\":1.02,\"xanchor\":\"right\",\"x\":1,\"traceorder\":\"normal\"},\"width\":700,\"height\":350,\"shapes\":[{\"fillcolor\":\"green\",\"layer\":\"below\",\"line\":{\"width\":0},\"opacity\":0.2,\"type\":\"rect\",\"x0\":\"2017-04-26T04:00:00+00:00\",\"x1\":\"2017-06-13T04:00:00+00:00\",\"xref\":\"x\",\"y0\":33.84588594436645,\"y1\":34.50097188949585,\"yref\":\"y\"},{\"fillcolor\":\"green\",\"layer\":\"below\",\"line\":{\"width\":0},\"opacity\":0.2,\"type\":\"rect\",\"x0\":\"2017-07-19T04:00:00+00:00\",\"x1\":\"2017-09-19T04:00:00+00:00\",\"xref\":\"x\",\"y0\":35.72177980422973,\"y1\":37.50492161750794,\"yref\":\"y\"},{\"fillcolor\":\"green\",\"layer\":\"below\",\"line\":{\"width\":0},\"opacity\":0.2,\"type\":\"rect\",\"x0\":\"2017-10-18T04:00:00+00:00\",\"x1\":\"2017-12-08T05:00:00+00:00\",\"xref\":\"x\",\"y0\":37.93750657081604,\"y1\":40.16280721664429,\"yref\":\"y\"},{\"fillcolor\":\"red\",\"layer\":\"below\",\"line\":{\"width\":0},\"opacity\":0.2,\"type\":\"rect\",\"x0\":\"2017-12-20T05:00:00+00:00\",\"x1\":\"2017-12-29T05:00:00+00:00\",\"xref\":\"x\",\"y0\":41.55095644950867,\"y1\":40.23019027709961,\"yref\":\"y\"}]},                        {\"responsive\": true}                    ).then(function(){\n",
              "                            \n",
              "var gd = document.getElementById('8194778c-2562-42f4-9997-384395801c6a');\n",
              "var x = new MutationObserver(function (mutations, observer) {{\n",
              "        var display = window.getComputedStyle(gd).display;\n",
              "        if (!display || display === 'none') {{\n",
              "            console.log([gd, 'removed!']);\n",
              "            Plotly.purge(gd);\n",
              "            observer.disconnect();\n",
              "        }}\n",
              "}});\n",
              "\n",
              "// Listen for the removal of the full notebook cells\n",
              "var notebookContainer = gd.closest('#notebook-container');\n",
              "if (notebookContainer) {{\n",
              "    x.observe(notebookContainer, {childList: true});\n",
              "}}\n",
              "\n",
              "// Listen for the clearing of the current output cell\n",
              "var outputEl = gd.closest('.output');\n",
              "if (outputEl) {{\n",
              "    x.observe(outputEl, {childList: true});\n",
              "}}\n",
              "\n",
              "                        })                };                            </script>        </div>\n",
              "</body>\n",
              "</html>"
            ]
          },
          "metadata": {},
          "output_type": "display_data"
        }
      ],
      "source": [
        "# Gráfico da Estratégia\n",
        "fig = pf.close.vbt.plot(trace_kwargs=dict(name='Preço de Fechamento'))\n",
        "media_movel_curta.ma.vbt.plot(trace_kwargs=dict(name='Média Móvel Curta'), fig=fig)\n",
        "media_movel_longa.ma.vbt.plot(trace_kwargs=dict(name='Média Móvel Longa'), fig=fig)\n",
        "pf.positions.plot(close_trace_kwargs=dict(visible=False), fig=fig)\n",
        "fig.show()"
      ]
    },
    {
      "cell_type": "code",
      "execution_count": null,
      "metadata": {
        "colab": {
          "background_save": true
        },
        "id": "xRPUcGdafbwT"
      },
      "outputs": [],
      "source": [
        "# Mostrar as ordens\n",
        "# pf.orders.records_readable"
      ]
    },
    {
      "cell_type": "code",
      "execution_count": null,
      "metadata": {
        "colab": {
          "background_save": true
        },
        "id": "QIV-FC3G8u4v"
      },
      "outputs": [],
      "source": [
        "# Gráfico de Saldo em Caixa e valor dos Ativos investidos\n",
        "# pf.plot(subplots=['cash', 'assets', 'value']).show()"
      ]
    },
    {
      "cell_type": "markdown",
      "metadata": {
        "id": "u1lHxx17jpTJ"
      },
      "source": [
        "### Analisar Fora da Amostra (out-of-sample)\n",
        "\n",
        "> Bloco com recuo\n",
        "\n"
      ]
    },
    {
      "cell_type": "code",
      "execution_count": null,
      "metadata": {
        "colab": {
          "background_save": true
        },
        "id": "SJNQIPmelG6Y",
        "outputId": "ace861c9-be16-40ba-f783-45a139df8d38"
      },
      "outputs": [
        {
          "name": "stdout",
          "output_type": "stream",
          "text": [
            "                                Open       High        Low      Close  \\\n",
            "Date                                                                    \n",
            "2018-01-02 05:00:00+00:00  40.451280  40.960012  40.237326  40.950500   \n",
            "2018-01-03 05:00:00+00:00  41.014685  41.494891  40.879184  40.943367   \n",
            "2018-01-04 05:00:00+00:00  41.017055  41.238141  40.907703  41.133541   \n",
            "2018-01-05 05:00:00+00:00  41.231010  41.689817  41.138297  41.601860   \n",
            "2018-01-08 05:00:00+00:00  41.447346  41.746878  41.347498  41.447346   \n",
            "...                              ...        ...        ...        ...   \n",
            "2018-12-24 05:00:00+00:00  35.747694  36.568095  35.371276  35.429188   \n",
            "2018-12-26 05:00:00+00:00  35.783888  37.938641  35.402643  37.924164   \n",
            "2018-12-27 05:00:00+00:00  37.603250  37.827656  36.210987  37.678051   \n",
            "2018-12-28 05:00:00+00:00  38.003798  38.249919  37.291981  37.697353   \n",
            "2018-12-31 05:00:00+00:00  38.252327  38.452602  37.757674  38.061707   \n",
            "\n",
            "                              Volume  Dividends  Stock Splits  \n",
            "Date                                                           \n",
            "2018-01-02 05:00:00+00:00  102223600        0.0             0  \n",
            "2018-01-03 05:00:00+00:00  118071600        0.0             0  \n",
            "2018-01-04 05:00:00+00:00   89738400        0.0             0  \n",
            "2018-01-05 05:00:00+00:00   94640000        0.0             0  \n",
            "2018-01-08 05:00:00+00:00   82271200        0.0             0  \n",
            "...                              ...        ...           ...  \n",
            "2018-12-24 05:00:00+00:00  148676800        0.0             0  \n",
            "2018-12-26 05:00:00+00:00  234330000        0.0             0  \n",
            "2018-12-27 05:00:00+00:00  212468400        0.0             0  \n",
            "2018-12-28 05:00:00+00:00  169165600        0.0             0  \n",
            "2018-12-31 05:00:00+00:00  140014000        0.0             0  \n",
            "\n",
            "[251 rows x 7 columns]\n"
          ]
        }
      ],
      "source": [
        "# Baixar dados fora da amostra\n",
        "data_inicial2 = data_final \n",
        "data_final2 = '2019-01-01'\n",
        "precos2 = vbt.YFData.download(codigo, start=data_inicial2, end=data_final2).get()\n",
        "fechamento2 = vbt.YFData.download(codigo, start=data_inicial2, end=data_final2).get('Close')\n",
        "print(precos2)"
      ]
    },
    {
      "cell_type": "code",
      "execution_count": null,
      "metadata": {
        "colab": {
          "background_save": true
        },
        "id": "dFz-wGBQjkEK"
      },
      "outputs": [],
      "source": [
        "# Testar estratégia fora da amostra\n",
        "media_movel_curta2 = vbt.MA.run(fechamento2, estrategia_media_movel_curta, short_name='fast_ma')\n",
        "media_movel_longa2 = vbt.MA.run(fechamento2, estrategia_media_movel_longa, short_name='slow_ma')\n",
        "\n",
        "entradas2 = media_movel_curta2.ma_crossed_above(media_movel_longa2)\n",
        "saidas2 = media_movel_curta2.ma_crossed_below(media_movel_longa2)\n",
        "\n",
        "# Create the Signals Portfolio\n",
        "pf2 = vbt.Portfolio.from_signals(fechamento2,\n",
        "                                entries=entradas2,\n",
        "                                exits=saidas2,\n",
        "                                freq=\"D\",\n",
        "                                # init_cash=100_000,\n",
        "                                fees=0.0025,\n",
        "                                slippage=0.0025)"
      ]
    },
    {
      "cell_type": "code",
      "execution_count": null,
      "metadata": {
        "colab": {
          "background_save": true
        },
        "id": "Apgk4HZ3nTSi",
        "outputId": "b15f07e5-2628-4fa7-812e-6b9f21913e42"
      },
      "outputs": [
        {
          "name": "stdout",
          "output_type": "stream",
          "text": [
            "====================================================================== \n",
            "\n",
            "RESULTADO NA AMOSTRA DE TESTE (in-sample)\n",
            "\n",
            "Retorno Total (%): 7.8\n",
            "Retorno Anualizado (%): 11.54\n",
            "Índice Sharpe: 0.74\n",
            "====================================================================== \n",
            "\n",
            "RESULTADO FORA DA AMOSTRA (out-of-sample)\n",
            "\n",
            "Retorno Total (%): -5.46\n",
            "Retorno Anualizado (%): -7.84\n",
            "Índice Sharpe: -0.32\n",
            "======================================================================\n"
          ]
        }
      ],
      "source": [
        "# Comparar desempenho\n",
        "print(\"=\" * 70,\"\\n\")\n",
        "print(\"RESULTADO NA AMOSTRA DE TESTE (in-sample)\\n\")\n",
        "print(\"Retorno Total (%):\", round(pf.total_return() * 100,2))\n",
        "print(\"Retorno Anualizado (%):\", round(pf.annualized_return() * 100,2))\n",
        "print(\"Índice Sharpe:\", round(pf.sharpe_ratio(),2))\n",
        "print(\"=\" * 70,\"\\n\")\n",
        "print(\"RESULTADO FORA DA AMOSTRA (out-of-sample)\\n\")\n",
        "print(\"Retorno Total (%):\", round(pf2.total_return() * 100,2))\n",
        "print(\"Retorno Anualizado (%):\", round(pf2.annualized_return() * 100,2))\n",
        "print(\"Índice Sharpe:\", round(pf2.sharpe_ratio(),2))\n",
        "print(\"=\" * 70)"
      ]
    },
    {
      "cell_type": "markdown",
      "metadata": {
        "id": "UxTGpQGInhuM"
      },
      "source": [
        "### Comentário\n",
        "\n",
        "\n",
        "Comparando os dois resultados, percebesse que o resultado fora da amostra teve um resultado diferente, pois todos os valores deram negativo, em mostra um invetimento valido (in-sample), com retorno total de 7.8% a 11.54% ao ano, enquanto o outro mostra prejuizo (out-of-smple) dando um retorno total de -5.46% a -7.84% ao ano.Enquanto o ìndice sharp o qual apresenta o índice onde expressa a relação risco x retorno e informa se o fundo oferece rentabilidade compatível com o risco a que o investidor está exposto. Sendo assim o indice sharp mostra um maior risco em relação aos resultados fora da amostra. Estrategias passadas podem sim funcionar no periodo atual, apenas depende de como abordar e estar ciente que as variaeis passadas e atuais podem se diferentes dependendo da ocasião, alterando o resultado final."
      ]
    },
    {
      "cell_type": "markdown",
      "metadata": {
        "id": "ZOqie8WBoRd3"
      },
      "source": [
        "## Otimizando computacionalmente"
      ]
    },
    {
      "cell_type": "markdown",
      "metadata": {
        "id": "89midZIJv8nJ"
      },
      "source": [
        "### Escolher janela de teste"
      ]
    },
    {
      "cell_type": "code",
      "execution_count": null,
      "metadata": {
        "colab": {
          "background_save": true
        },
        "id": "WnNsBaCRojz_",
        "outputId": "1c7c542d-8d2d-413a-908d-a184fd2dd323"
      },
      "outputs": [
        {
          "name": "stdout",
          "output_type": "stream",
          "text": [
            "[10 11 12 13 14 15 16 17 18 19 20 21 22 23 24 25 26 27 28 29 30 31 32 33\n",
            " 34 35 36 37 38 39 40 41 42 43 44 45 46 47 48 49]\n"
          ]
        }
      ],
      "source": [
        "# Definir intervalo de janelas\n",
        "janelas = np.arange(10, 50)\n",
        "print(janelas)"
      ]
    },
    {
      "cell_type": "code",
      "execution_count": null,
      "metadata": {
        "colab": {
          "background_save": true
        },
        "id": "OpnOBT3Kz8nG",
        "outputId": "57bc10d0-e3a4-487f-bb7d-d329b158581b"
      },
      "outputs": [
        {
          "data": {
            "text/plain": [
              "Date\n",
              "2017-01-03 05:00:00+00:00    27.174757\n",
              "2017-01-04 05:00:00+00:00    27.144341\n",
              "2017-01-05 05:00:00+00:00    27.282377\n",
              "2017-01-06 05:00:00+00:00    27.586529\n",
              "2017-01-09 05:00:00+00:00    27.839209\n",
              "                               ...    \n",
              "2017-12-22 05:00:00+00:00    41.604237\n",
              "2017-12-26 05:00:00+00:00    40.548737\n",
              "2017-12-27 05:00:00+00:00    40.555870\n",
              "2017-12-28 05:00:00+00:00    40.669983\n",
              "2017-12-29 05:00:00+00:00    40.230190\n",
              "Name: Close, Length: 251, dtype: float64"
            ]
          },
          "execution_count": 23,
          "metadata": {},
          "output_type": "execute_result"
        }
      ],
      "source": [
        "fechamento"
      ]
    },
    {
      "cell_type": "code",
      "execution_count": null,
      "metadata": {
        "colab": {
          "background_save": true
        },
        "id": "G8gysx8FoVD3"
      },
      "outputs": [],
      "source": [
        "# Testar automaticamente diversas combinações de janelas\n",
        "# fast_ma, slow_ma = vbt.MA.run_combs(price, windows)\n",
        "media_movel_curta3, media_movel_longa3 = vbt.MA.run_combs(fechamento, janelas)\n",
        "\n",
        "# entries = fast_ma.ma_crossed_above(slow_ma)\n",
        "# exits = fast_ma.ma_crossed_below(slow_ma)\n",
        "entradas3 = media_movel_curta3.ma_crossed_above(media_movel_longa3)\n",
        "saidas3 = media_movel_curta3.ma_crossed_below(media_movel_longa3)\n",
        "\n",
        "# portfolio = vbt.Portfolio.from_signals(price, entries, exits, freq='1d', direction='both')\n",
        "# Create the Signals Portfolio\n",
        "pf3 = vbt.Portfolio.from_signals(fechamento,\n",
        "                                entries=entradas3,\n",
        "                                exits=saidas3,\n",
        "                                freq=\"D\",\n",
        "                                # init_cash=100_000,\n",
        "                                fees=0.0025,\n",
        "                                slippage=0.0025)"
      ]
    },
    {
      "cell_type": "markdown",
      "metadata": {
        "id": "U8w2x9mjwC-d"
      },
      "source": [
        "### Resultado in-sample"
      ]
    },
    {
      "cell_type": "code",
      "execution_count": null,
      "metadata": {
        "colab": {
          "background_save": true
        },
        "id": "SdfdS2pXqbTB",
        "outputId": "1324495e-c3f2-4387-e15e-2d05ff951fa3"
      },
      "outputs": [
        {
          "name": "stdout",
          "output_type": "stream",
          "text": [
            "Índice Sharpe:\n",
            "\n",
            " ma_1_window  ma_2_window\n",
            "46           48            -1.59\n",
            "41           42            -1.48\n",
            "             43            -1.48\n",
            "46           47            -1.43\n",
            "43           44            -1.37\n",
            "                            ... \n",
            "16           21             1.07\n",
            "17           21             1.09\n",
            "16           23             1.17\n",
            "17           22             1.22\n",
            "16           22             1.32\n",
            "Name: sharpe_ratio, Length: 780, dtype: float64\n"
          ]
        }
      ],
      "source": [
        "# print(\"Retorno Total (%):\\n\\n\", round(pf3.total_return().sort_values() * 100,2))\n",
        "# print(\"Retorno Anualizado (%):\\n\\n\", round(pf3.annualized_return().sort_values() * 100,2))\n",
        "print(\"Índice Sharpe:\\n\\n\", round(pf3.sharpe_ratio().sort_values(),2))"
      ]
    },
    {
      "cell_type": "markdown",
      "metadata": {
        "id": "Y6lFPfKorfkU"
      },
      "source": [
        "### Testar fora da amostra (out-of-sample)\n",
        "\n",
        "Testando a melhor estratégia encontrada na etapa anterior (atulizar números com as melhores janelas)."
      ]
    },
    {
      "cell_type": "markdown",
      "metadata": {
        "id": "F4hlnyGZ1tf8"
      },
      "source": [
        "### A FAZER: Colocar manualmente a melhor estrategia"
      ]
    },
    {
      "cell_type": "code",
      "execution_count": 76,
      "metadata": {
        "id": "o74J3unNu5wt"
      },
      "outputs": [],
      "source": [
        "estrategia_otima_media_movel_curta = 15\n",
        "estrategia_otima_media_movel_longa = 24"
      ]
    },
    {
      "cell_type": "code",
      "execution_count": 77,
      "metadata": {
        "id": "FPYk1NBnqxwc"
      },
      "outputs": [],
      "source": [
        "# Rodar teste\n",
        "media_movel_curta4 = vbt.MA.run(fechamento2, estrategia_otima_media_movel_curta, short_name='fast_ma')\n",
        "media_movel_longa4 = vbt.MA.run(fechamento2, estrategia_otima_media_movel_longa, short_name='slow_ma')\n",
        "\n",
        "entradas4 = media_movel_curta4.ma_crossed_above(media_movel_longa4)\n",
        "saidas4 = media_movel_curta4.ma_crossed_below(media_movel_longa4)\n",
        "\n",
        "# Create the Signals Portfolio\n",
        "pf4 = vbt.Portfolio.from_signals(fechamento2,\n",
        "                                entries=entradas4,\n",
        "                                exits=saidas4,\n",
        "                                freq=\"D\",\n",
        "                                # init_cash=100_000,\n",
        "                                fees=0.0025,\n",
        "                                slippage=0.0025)"
      ]
    },
    {
      "cell_type": "markdown",
      "metadata": {
        "id": "7SGJgOtowedK"
      },
      "source": [
        "### Analisar Resultados (out-of-sample)"
      ]
    },
    {
      "cell_type": "code",
      "execution_count": 78,
      "metadata": {
        "colab": {
          "base_uri": "https://localhost:8080/"
        },
        "id": "0zy3kupCwd5j",
        "outputId": "8bc6b1e2-84a3-414a-fd8d-93fbb231514b"
      },
      "outputs": [
        {
          "output_type": "stream",
          "name": "stdout",
          "text": [
            "====================================================================== \n",
            "\n",
            "RESULTADO NA AMOSTRA DE TESTE (in-sample)\n",
            "\n",
            "Índice Sharpe: 1.32\n",
            "====================================================================== \n",
            "\n",
            "RESULTADO FORA DA AMOSTRA (out-of-sample)\n",
            "\n",
            "Índice Sharpe: 0.52\n",
            "======================================================================\n"
          ]
        }
      ],
      "source": [
        "# Comparar desempenho\n",
        "print(\"=\" * 70,\"\\n\")\n",
        "print(\"RESULTADO NA AMOSTRA DE TESTE (in-sample)\\n\")\n",
        "# print(\"Retorno Total (%):\", round(float(pf3.total_return().sort_values().tail(1).values) * 100,2))\n",
        "# print(\"Retorno Anualizado (%):\", round(float(pf3.annualized_return().sort_values().tail(1).values) * 100,2))\n",
        "print(\"Índice Sharpe:\", round(float(pf3.sharpe_ratio().sort_values().tail(1).values),2))\n",
        "print(\"=\" * 70,\"\\n\")\n",
        "print(\"RESULTADO FORA DA AMOSTRA (out-of-sample)\\n\")\n",
        "# print(\"Retorno Total (%):\", round(pf4.total_return() * 100,2))\n",
        "# print(\"Retorno Anualizado (%):\", round(pf4.annualized_return() * 100,2))\n",
        "print(\"Índice Sharpe:\", round(pf4.sharpe_ratio(),2))\n",
        "print(\"=\" * 70)"
      ]
    },
    {
      "cell_type": "markdown",
      "metadata": {
        "id": "KbrWKoLd1Xxe"
      },
      "source": [
        "### COMENTÁRIO: \n",
        "\n",
        "(Funcinou? Não funcinou? Porque deu diferente?)\n",
        "\n",
        "Não funcionou. Em minhas alterações da media movel curta e lunga, os resultados fora da amostra (out-of-sample) se manteve abaixo dos resultados na amostra (in-sample). Ao iniciar os testecom amedia movel curta em 16 e a media movel longa em 22 o indice sharp estava resultando em -17, trazzendo um aior risco de investimento, após diversas alterações consegui chegar em em um numero mais aceitavel do indice sharp, aletrando sua meida movel curta de 16 para 15 e sua media longa de 22 pra 24 assim resultou em um indice de 0,52, muio superior comparado ao anterior. Está dando diferente pois os resultados fora da amostra nãos estão conseguindo se igualar aos resultados já adquiridos, provando-se inferiror nesse cenario."
      ]
    },
    {
      "cell_type": "markdown",
      "metadata": {
        "id": "OPTUmH9O2u9i"
      },
      "source": [
        "# Próximo tópico:\n",
        "\n",
        "Treino, validação e teste."
      ]
    },
    {
      "cell_type": "markdown",
      "metadata": {
        "id": "6Kr3p17S2oqr"
      },
      "source": [
        "<img src=\"https://vectorbt.dev/assets/images/features_rolling_split.svg\">\n"
      ]
    }
  ],
  "metadata": {
    "colab": {
      "provenance": [],
      "toc_visible": true,
      "include_colab_link": true
    },
    "kernelspec": {
      "display_name": "Python 3",
      "name": "python3"
    },
    "language_info": {
      "name": "python"
    }
  },
  "nbformat": 4,
  "nbformat_minor": 0
}